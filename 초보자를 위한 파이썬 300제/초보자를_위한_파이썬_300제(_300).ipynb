{
  "nbformat": 4,
  "nbformat_minor": 0,
  "metadata": {
    "colab": {
      "name": "초보자를 위한 파이썬 300제(~300).ipynb",
      "provenance": [],
      "collapsed_sections": []
    },
    "kernelspec": {
      "name": "python3",
      "display_name": "Python 3"
    },
    "language_info": {
      "name": "python"
    }
  },
  "cells": [
    {
      "cell_type": "code",
      "execution_count": null,
      "metadata": {
        "colab": {
          "base_uri": "https://localhost:8080/"
        },
        "id": "C3h1fqZb8KcV",
        "outputId": "4db1280d-cd7a-4d45-9955-6556ffe9b313"
      },
      "outputs": [
        {
          "output_type": "stream",
          "name": "stdout",
          "text": [
            "비트코인\n"
          ]
        }
      ],
      "source": [
        "# 201\n",
        "\n",
        "def print_coin():\n",
        "  print(\"비트코인\")\n",
        "\n",
        "print_coin()"
      ]
    },
    {
      "cell_type": "code",
      "source": [
        "# 202\n",
        "\n",
        "print_coin()"
      ],
      "metadata": {
        "colab": {
          "base_uri": "https://localhost:8080/"
        },
        "id": "ITF-b8Cd8Ybw",
        "outputId": "eba3f52a-7b41-4195-9c41-5147b435a980"
      },
      "execution_count": null,
      "outputs": [
        {
          "output_type": "stream",
          "name": "stdout",
          "text": [
            "비트코인\n"
          ]
        }
      ]
    },
    {
      "cell_type": "code",
      "source": [
        "# 203\n",
        "\n",
        "for i in range(100):\n",
        "  print_coin()"
      ],
      "metadata": {
        "colab": {
          "base_uri": "https://localhost:8080/"
        },
        "id": "M0AKO7pI8lHg",
        "outputId": "94a80bd5-0c74-4d63-ca43-e8922a92fa82"
      },
      "execution_count": null,
      "outputs": [
        {
          "output_type": "stream",
          "name": "stdout",
          "text": [
            "비트코인\n",
            "비트코인\n",
            "비트코인\n",
            "비트코인\n",
            "비트코인\n",
            "비트코인\n",
            "비트코인\n",
            "비트코인\n",
            "비트코인\n",
            "비트코인\n",
            "비트코인\n",
            "비트코인\n",
            "비트코인\n",
            "비트코인\n",
            "비트코인\n",
            "비트코인\n",
            "비트코인\n",
            "비트코인\n",
            "비트코인\n",
            "비트코인\n",
            "비트코인\n",
            "비트코인\n",
            "비트코인\n",
            "비트코인\n",
            "비트코인\n",
            "비트코인\n",
            "비트코인\n",
            "비트코인\n",
            "비트코인\n",
            "비트코인\n",
            "비트코인\n",
            "비트코인\n",
            "비트코인\n",
            "비트코인\n",
            "비트코인\n",
            "비트코인\n",
            "비트코인\n",
            "비트코인\n",
            "비트코인\n",
            "비트코인\n",
            "비트코인\n",
            "비트코인\n",
            "비트코인\n",
            "비트코인\n",
            "비트코인\n",
            "비트코인\n",
            "비트코인\n",
            "비트코인\n",
            "비트코인\n",
            "비트코인\n",
            "비트코인\n",
            "비트코인\n",
            "비트코인\n",
            "비트코인\n",
            "비트코인\n",
            "비트코인\n",
            "비트코인\n",
            "비트코인\n",
            "비트코인\n",
            "비트코인\n",
            "비트코인\n",
            "비트코인\n",
            "비트코인\n",
            "비트코인\n",
            "비트코인\n",
            "비트코인\n",
            "비트코인\n",
            "비트코인\n",
            "비트코인\n",
            "비트코인\n",
            "비트코인\n",
            "비트코인\n",
            "비트코인\n",
            "비트코인\n",
            "비트코인\n",
            "비트코인\n",
            "비트코인\n",
            "비트코인\n",
            "비트코인\n",
            "비트코인\n",
            "비트코인\n",
            "비트코인\n",
            "비트코인\n",
            "비트코인\n",
            "비트코인\n",
            "비트코인\n",
            "비트코인\n",
            "비트코인\n",
            "비트코인\n",
            "비트코인\n",
            "비트코인\n",
            "비트코인\n",
            "비트코인\n",
            "비트코인\n",
            "비트코인\n",
            "비트코인\n",
            "비트코인\n",
            "비트코인\n",
            "비트코인\n",
            "비트코인\n"
          ]
        }
      ]
    },
    {
      "cell_type": "code",
      "source": [
        "# 204\n",
        "\n",
        "def print_coins():\n",
        "  for i in range(100):\n",
        "    print_coin()\n",
        "\n",
        "print_coins()"
      ],
      "metadata": {
        "colab": {
          "base_uri": "https://localhost:8080/"
        },
        "id": "xhVEKLGs8tvf",
        "outputId": "40007010-db56-488b-9f6f-68166523de69"
      },
      "execution_count": null,
      "outputs": [
        {
          "output_type": "stream",
          "name": "stdout",
          "text": [
            "비트코인\n",
            "비트코인\n",
            "비트코인\n",
            "비트코인\n",
            "비트코인\n",
            "비트코인\n",
            "비트코인\n",
            "비트코인\n",
            "비트코인\n",
            "비트코인\n",
            "비트코인\n",
            "비트코인\n",
            "비트코인\n",
            "비트코인\n",
            "비트코인\n",
            "비트코인\n",
            "비트코인\n",
            "비트코인\n",
            "비트코인\n",
            "비트코인\n",
            "비트코인\n",
            "비트코인\n",
            "비트코인\n",
            "비트코인\n",
            "비트코인\n",
            "비트코인\n",
            "비트코인\n",
            "비트코인\n",
            "비트코인\n",
            "비트코인\n",
            "비트코인\n",
            "비트코인\n",
            "비트코인\n",
            "비트코인\n",
            "비트코인\n",
            "비트코인\n",
            "비트코인\n",
            "비트코인\n",
            "비트코인\n",
            "비트코인\n",
            "비트코인\n",
            "비트코인\n",
            "비트코인\n",
            "비트코인\n",
            "비트코인\n",
            "비트코인\n",
            "비트코인\n",
            "비트코인\n",
            "비트코인\n",
            "비트코인\n",
            "비트코인\n",
            "비트코인\n",
            "비트코인\n",
            "비트코인\n",
            "비트코인\n",
            "비트코인\n",
            "비트코인\n",
            "비트코인\n",
            "비트코인\n",
            "비트코인\n",
            "비트코인\n",
            "비트코인\n",
            "비트코인\n",
            "비트코인\n",
            "비트코인\n",
            "비트코인\n",
            "비트코인\n",
            "비트코인\n",
            "비트코인\n",
            "비트코인\n",
            "비트코인\n",
            "비트코인\n",
            "비트코인\n",
            "비트코인\n",
            "비트코인\n",
            "비트코인\n",
            "비트코인\n",
            "비트코인\n",
            "비트코인\n",
            "비트코인\n",
            "비트코인\n",
            "비트코인\n",
            "비트코인\n",
            "비트코인\n",
            "비트코인\n",
            "비트코인\n",
            "비트코인\n",
            "비트코인\n",
            "비트코인\n",
            "비트코인\n",
            "비트코인\n",
            "비트코인\n",
            "비트코인\n",
            "비트코인\n",
            "비트코인\n",
            "비트코인\n",
            "비트코인\n",
            "비트코인\n",
            "비트코인\n",
            "비트코인\n"
          ]
        }
      ]
    },
    {
      "cell_type": "code",
      "source": [
        "# 205\n",
        "\n",
        "'''\n",
        "hello()\n",
        "def hello():\n",
        "    print(\"Hi\")\n",
        "'''\n",
        "\n",
        "# hello()가 정의되지 않았음"
      ],
      "metadata": {
        "colab": {
          "base_uri": "https://localhost:8080/",
          "height": 36
        },
        "id": "m8IUsJMH9kEY",
        "outputId": "ce49b6a9-c867-4ad8-8631-b42f078795fa"
      },
      "execution_count": null,
      "outputs": [
        {
          "output_type": "execute_result",
          "data": {
            "text/plain": [
              "'\\nhello()\\ndef hello():\\n    print(\"Hi\")\\n'"
            ],
            "application/vnd.google.colaboratory.intrinsic+json": {
              "type": "string"
            }
          },
          "metadata": {},
          "execution_count": 6
        }
      ]
    },
    {
      "cell_type": "code",
      "source": [
        "# 206\n",
        "\n",
        "def message() :\n",
        "    print(\"A\")\n",
        "    print(\"B\")\n",
        "\n",
        "message()\n",
        "print(\"C\")\n",
        "message()"
      ],
      "metadata": {
        "colab": {
          "base_uri": "https://localhost:8080/"
        },
        "id": "z7QbiWhf90Fd",
        "outputId": "57c67ee1-e6c8-4bbf-8b9d-ab724244a906"
      },
      "execution_count": null,
      "outputs": [
        {
          "output_type": "stream",
          "name": "stdout",
          "text": [
            "A\n",
            "B\n",
            "C\n",
            "A\n",
            "B\n"
          ]
        }
      ]
    },
    {
      "cell_type": "code",
      "source": [
        "# 207\n",
        "\n",
        "print(\"A\")\n",
        "\n",
        "def message() :\n",
        "    print(\"B\")\n",
        "\n",
        "print(\"C\")\n",
        "message()"
      ],
      "metadata": {
        "colab": {
          "base_uri": "https://localhost:8080/"
        },
        "id": "T_RnVy3_97Lb",
        "outputId": "e9c566cd-83b9-479e-cde5-62b0990cca49"
      },
      "execution_count": null,
      "outputs": [
        {
          "output_type": "stream",
          "name": "stdout",
          "text": [
            "A\n",
            "C\n",
            "B\n"
          ]
        }
      ]
    },
    {
      "cell_type": "code",
      "source": [
        "# 208\n",
        "\n",
        "print(\"A\")\n",
        "def message1() :\n",
        "    print(\"B\")\n",
        "print(\"C\")\n",
        "def message2() :\n",
        "    print(\"D\")\n",
        "message1()\n",
        "print(\"E\")\n",
        "message2()"
      ],
      "metadata": {
        "colab": {
          "base_uri": "https://localhost:8080/"
        },
        "id": "c95egNy89-8G",
        "outputId": "f78bf6b6-627f-476e-9e4e-eaa962a7e7e9"
      },
      "execution_count": null,
      "outputs": [
        {
          "output_type": "stream",
          "name": "stdout",
          "text": [
            "A\n",
            "C\n",
            "B\n",
            "E\n",
            "D\n"
          ]
        }
      ]
    },
    {
      "cell_type": "code",
      "source": [
        "# 209\n",
        "\n",
        "def message1():\n",
        "    print(\"A\")\n",
        "\n",
        "def message2():\n",
        "    print(\"B\")\n",
        "    message1()\n",
        "\n",
        "message2()"
      ],
      "metadata": {
        "colab": {
          "base_uri": "https://localhost:8080/"
        },
        "id": "CC0oObmr-FUH",
        "outputId": "38733d00-16b4-435e-ffcc-7a7296368ea2"
      },
      "execution_count": null,
      "outputs": [
        {
          "output_type": "stream",
          "name": "stdout",
          "text": [
            "B\n",
            "A\n"
          ]
        }
      ]
    },
    {
      "cell_type": "code",
      "source": [
        "# 210\n",
        "\n",
        "def message1():\n",
        "    print(\"A\")\n",
        "\n",
        "def message2():\n",
        "    print(\"B\")\n",
        "\n",
        "def message3():\n",
        "    for i in range (3) :\n",
        "        message2()\n",
        "        print(\"C\")\n",
        "    message1()\n",
        "\n",
        "message3()"
      ],
      "metadata": {
        "colab": {
          "base_uri": "https://localhost:8080/"
        },
        "id": "Vm7DnNwn-KPn",
        "outputId": "0c095126-d276-4f0c-cb6a-073996ffd84b"
      },
      "execution_count": null,
      "outputs": [
        {
          "output_type": "stream",
          "name": "stdout",
          "text": [
            "B\n",
            "C\n",
            "B\n",
            "C\n",
            "B\n",
            "C\n",
            "A\n"
          ]
        }
      ]
    },
    {
      "cell_type": "code",
      "source": [
        "# 211\n",
        "\n",
        "def 함수(문자열) :\n",
        "    print(문자열)\n",
        "\n",
        "함수(\"안녕\")\n",
        "함수(\"Hi\")"
      ],
      "metadata": {
        "colab": {
          "base_uri": "https://localhost:8080/"
        },
        "id": "RwxoECsS-QVN",
        "outputId": "3bd0b1d3-6ac3-40a6-c1c4-e47b59f7b0c5"
      },
      "execution_count": null,
      "outputs": [
        {
          "output_type": "stream",
          "name": "stdout",
          "text": [
            "안녕\n",
            "Hi\n"
          ]
        }
      ]
    },
    {
      "cell_type": "code",
      "source": [
        "# 212\n",
        "\n",
        "def 함수(a, b) :\n",
        "    print(a + b)\n",
        "\n",
        "함수(3, 4)\n",
        "함수(7, 8)"
      ],
      "metadata": {
        "colab": {
          "base_uri": "https://localhost:8080/"
        },
        "id": "DAyhfgRu-iu-",
        "outputId": "d4a19fc0-6681-4337-998b-72063388645b"
      },
      "execution_count": null,
      "outputs": [
        {
          "output_type": "stream",
          "name": "stdout",
          "text": [
            "7\n",
            "15\n"
          ]
        }
      ]
    },
    {
      "cell_type": "code",
      "source": [
        "# 213\n",
        "\n",
        "'''\n",
        "def 함수(문자열) :\n",
        "    print(문자열)\n",
        "'''\n",
        "\n",
        "'''\n",
        "함수()\n",
        "TypeError: 함수() missing 1 required positional argument: '문자열'\n",
        "'''\n",
        "\n",
        "# 함수()에는 문자열이 필요한데, 아무런 문자열도 적지 않아서 에러가 발생"
      ],
      "metadata": {
        "colab": {
          "base_uri": "https://localhost:8080/",
          "height": 36
        },
        "id": "HO0mG8JS-mOS",
        "outputId": "58abd243-9899-4993-b925-e45c06e4605c"
      },
      "execution_count": null,
      "outputs": [
        {
          "output_type": "execute_result",
          "data": {
            "text/plain": [
              "\"\\n함수()\\nTypeError: 함수() missing 1 required positional argument: '문자열'\\n\""
            ],
            "application/vnd.google.colaboratory.intrinsic+json": {
              "type": "string"
            }
          },
          "metadata": {},
          "execution_count": 14
        }
      ]
    },
    {
      "cell_type": "code",
      "source": [
        "# 214\n",
        "\n",
        "'''\n",
        "def 함수(a, b) :\n",
        "    print(a + b)\n",
        "\n",
        "함수(\"안녕\", 3)\n",
        "'''\n",
        "\n",
        "'''\n",
        "TypeError: must be str, not int\n",
        "'''\n",
        "\n",
        "# 함수()는 같은 타입의 두 값만 들어갈 수 있으나, 서로 다른 타입인 str과 int를 넣어서 에러가 발생"
      ],
      "metadata": {
        "colab": {
          "base_uri": "https://localhost:8080/",
          "height": 36
        },
        "id": "bNCHgJSl_CAr",
        "outputId": "7a7d8f7e-c1a5-4b1d-b5fa-a4397cdc68a5"
      },
      "execution_count": null,
      "outputs": [
        {
          "output_type": "execute_result",
          "data": {
            "text/plain": [
              "'\\nTypeError: must be str, not int\\n'"
            ],
            "application/vnd.google.colaboratory.intrinsic+json": {
              "type": "string"
            }
          },
          "metadata": {},
          "execution_count": 15
        }
      ]
    },
    {
      "cell_type": "code",
      "source": [
        "# 215\n",
        "\n",
        "def print_with_smile(string):\n",
        "  print(string + ':D')\n",
        "\n",
        "print_with_smile('아')"
      ],
      "metadata": {
        "colab": {
          "base_uri": "https://localhost:8080/"
        },
        "id": "-EhOoTHc_lgT",
        "outputId": "c98921db-c669-4857-e3b7-ce72eca6afc8"
      },
      "execution_count": null,
      "outputs": [
        {
          "output_type": "stream",
          "name": "stdout",
          "text": [
            "아:D\n"
          ]
        }
      ]
    },
    {
      "cell_type": "code",
      "source": [
        "# 216\n",
        "\n",
        "print_with_smile('안녕하세요')"
      ],
      "metadata": {
        "colab": {
          "base_uri": "https://localhost:8080/"
        },
        "id": "o2uCYFmgAxFY",
        "outputId": "839461c7-af3c-4b74-cd84-4f8e4a00be4b"
      },
      "execution_count": null,
      "outputs": [
        {
          "output_type": "stream",
          "name": "stdout",
          "text": [
            "안녕하세요:D\n"
          ]
        }
      ]
    },
    {
      "cell_type": "code",
      "source": [
        "# 217\n",
        "\n",
        "def print_upper_price(a):\n",
        "  print(a * 1.3)\n",
        "\n",
        "print_upper_price(100000)"
      ],
      "metadata": {
        "colab": {
          "base_uri": "https://localhost:8080/"
        },
        "id": "KiZg7-rlA-96",
        "outputId": "ebafb85f-0b05-404f-afd6-161d87355f4f"
      },
      "execution_count": null,
      "outputs": [
        {
          "output_type": "stream",
          "name": "stdout",
          "text": [
            "130000.0\n"
          ]
        }
      ]
    },
    {
      "cell_type": "code",
      "source": [
        "# 218\n",
        "\n",
        "def print_sum(a, b):\n",
        "  print(a + b)\n",
        "\n",
        "print_sum(1, 2)"
      ],
      "metadata": {
        "colab": {
          "base_uri": "https://localhost:8080/"
        },
        "id": "7HHlfXDxBcUr",
        "outputId": "2b7742d8-fa0a-43d0-e4bd-ed68caa3c770"
      },
      "execution_count": null,
      "outputs": [
        {
          "output_type": "stream",
          "name": "stdout",
          "text": [
            "3\n"
          ]
        }
      ]
    },
    {
      "cell_type": "code",
      "source": [
        "# 219\n",
        "\n",
        "def print_arithmetic_operation(a, b):\n",
        "  print(a + b)\n",
        "  print(a - b)\n",
        "  print(a * b)\n",
        "  print(a / b)\n",
        "\n",
        "print_arithmetic_operation(5, 9)"
      ],
      "metadata": {
        "colab": {
          "base_uri": "https://localhost:8080/"
        },
        "id": "U0ypwptHBt3X",
        "outputId": "23439d07-c294-46b8-f925-f59692b7795a"
      },
      "execution_count": null,
      "outputs": [
        {
          "output_type": "stream",
          "name": "stdout",
          "text": [
            "14\n",
            "-4\n",
            "45\n",
            "0.5555555555555556\n"
          ]
        }
      ]
    },
    {
      "cell_type": "code",
      "source": [
        "# 220\n",
        "\n",
        "def print_max(a, b, c):\n",
        "  max_val = 0\n",
        "  if a > max_val:\n",
        "    max_val = a\n",
        "  if b > max_val:\n",
        "    max_val = b\n",
        "  if c > max_val:\n",
        "    max_val = c\n",
        "  print(max_val)\n",
        "\n",
        "print_max(1, 2, 3)"
      ],
      "metadata": {
        "colab": {
          "base_uri": "https://localhost:8080/"
        },
        "id": "fdYlq0n-CFsW",
        "outputId": "73137d87-9333-41eb-94a0-d1b54114bf37"
      },
      "execution_count": null,
      "outputs": [
        {
          "output_type": "stream",
          "name": "stdout",
          "text": [
            "3\n"
          ]
        }
      ]
    },
    {
      "cell_type": "code",
      "source": [
        "# 221\n",
        "\n",
        "def print_reverse(string):\n",
        "  print(string[::-1])\n",
        "\n",
        "print_reverse('python')"
      ],
      "metadata": {
        "id": "urx6LgAxEfc6",
        "colab": {
          "base_uri": "https://localhost:8080/"
        },
        "outputId": "cf605b9c-94c6-4630-d818-e2a8fe11d70c"
      },
      "execution_count": 3,
      "outputs": [
        {
          "output_type": "stream",
          "name": "stdout",
          "text": [
            "nohtyp\n"
          ]
        }
      ]
    },
    {
      "cell_type": "code",
      "source": [
        "# 222\n",
        "\n",
        "def print_score(score_list):\n",
        "  print(sum(score_list)/len(score_list))\n",
        "\n",
        "print_score([1, 2, 3])"
      ],
      "metadata": {
        "colab": {
          "base_uri": "https://localhost:8080/"
        },
        "id": "4LHoPLUq2Q3f",
        "outputId": "941e1d86-fc83-47b6-b1b6-38a3b522828f"
      },
      "execution_count": 4,
      "outputs": [
        {
          "output_type": "stream",
          "name": "stdout",
          "text": [
            "2.0\n"
          ]
        }
      ]
    },
    {
      "cell_type": "code",
      "source": [
        "# 223\n",
        "\n",
        "def print_even(num_list):\n",
        "  for i in num_list:\n",
        "    if i % 2 == 0:\n",
        "      print(i)\n",
        "\n",
        "print_even([1, 3, 2, 10, 12, 11, 15])"
      ],
      "metadata": {
        "colab": {
          "base_uri": "https://localhost:8080/"
        },
        "id": "aKvrP-8W27BZ",
        "outputId": "2a017e45-a5d4-4373-a948-fc3f9ad957d7"
      },
      "execution_count": 5,
      "outputs": [
        {
          "output_type": "stream",
          "name": "stdout",
          "text": [
            "2\n",
            "10\n",
            "12\n"
          ]
        }
      ]
    },
    {
      "cell_type": "code",
      "source": [
        "# 224\n",
        "\n",
        "def print_keys(my_dict):\n",
        "  for i in my_dict.keys():\n",
        "    print(i)\n",
        "\n",
        "print_keys({\"이름\":\"김말똥\", \"나이\":30, \"성별\":0})"
      ],
      "metadata": {
        "colab": {
          "base_uri": "https://localhost:8080/"
        },
        "id": "F8Gy5WWD33RZ",
        "outputId": "e696153d-a9f6-4af0-a9aa-b8057612b648"
      },
      "execution_count": 10,
      "outputs": [
        {
          "output_type": "stream",
          "name": "stdout",
          "text": [
            "이름\n",
            "나이\n",
            "성별\n"
          ]
        }
      ]
    },
    {
      "cell_type": "code",
      "source": [
        "# 225\n",
        "\n",
        "my_dict = {\"10/26\" : [100, 130, 100, 100],\n",
        "           \"10/27\" : [10, 12, 10, 11]}\n",
        "\n",
        "def print_value_by_keys(my_dict, key):\n",
        "  print(my_dict[key])\n",
        "\n",
        "print_value_by_keys(my_dict, '10/26')"
      ],
      "metadata": {
        "colab": {
          "base_uri": "https://localhost:8080/"
        },
        "id": "wu2ziL0O4wt9",
        "outputId": "fcd3ce80-eb2f-4c9a-d107-2bb4bb6b1396"
      },
      "execution_count": 11,
      "outputs": [
        {
          "output_type": "stream",
          "name": "stdout",
          "text": [
            "[100, 130, 100, 100]\n"
          ]
        }
      ]
    },
    {
      "cell_type": "code",
      "source": [
        "# 226\n",
        "\n",
        "def print_5xn(string):\n",
        "  chunk_num = int(len(string) / 5)\n",
        "  for i in range(chunk_num + 1):\n",
        "    print(string[i * 5 : i * 5 + 5])\n",
        "\n",
        "print_5xn(\"아이엠어보이유알어걸아이엠어보이유알어걸아\")"
      ],
      "metadata": {
        "colab": {
          "base_uri": "https://localhost:8080/"
        },
        "id": "5Rx0YdOJ54cT",
        "outputId": "2913aa9f-cec4-4257-828a-5b3d7c3c4144"
      },
      "execution_count": 20,
      "outputs": [
        {
          "output_type": "stream",
          "name": "stdout",
          "text": [
            "아이엠어보\n",
            "이유알어걸\n",
            "아이엠어보\n",
            "이유알어걸\n",
            "아\n"
          ]
        }
      ]
    },
    {
      "cell_type": "code",
      "source": [
        "# 227\n",
        "\n",
        "def print_mxn(string, a):\n",
        "  chunk_num = int(len(string) / a)\n",
        "  for i in range(chunk_num + 1):\n",
        "    print(string[i * a : i * a + a])\n",
        "\n",
        "print_mxn('아이엠어보이유알어걸', 4)"
      ],
      "metadata": {
        "colab": {
          "base_uri": "https://localhost:8080/"
        },
        "id": "WuLqhhuh6dxE",
        "outputId": "181e67f9-1459-48b8-8832-18b3d447a9d4"
      },
      "execution_count": 21,
      "outputs": [
        {
          "output_type": "stream",
          "name": "stdout",
          "text": [
            "아이엠어\n",
            "보이유알\n",
            "어걸\n"
          ]
        }
      ]
    },
    {
      "cell_type": "code",
      "source": [
        "# 228\n",
        "\n",
        "def calc_monthly_salary(annual_salary):\n",
        "  print(int(annual_salary / 12))\n",
        "\n",
        "calc_monthly_salary(120000003)"
      ],
      "metadata": {
        "colab": {
          "base_uri": "https://localhost:8080/"
        },
        "id": "KwqmKs-W85JO",
        "outputId": "c28dedb7-9f7a-4885-ee9a-3b39460879a4"
      },
      "execution_count": 23,
      "outputs": [
        {
          "output_type": "stream",
          "name": "stdout",
          "text": [
            "10000000\n"
          ]
        }
      ]
    },
    {
      "cell_type": "code",
      "source": [
        "# 229\n",
        "\n",
        "def my_print (a, b) :\n",
        "    print(\"왼쪽:\", a)\n",
        "    print(\"오른쪽:\", b)\n",
        "\n",
        "my_print(a=100, b=200)"
      ],
      "metadata": {
        "colab": {
          "base_uri": "https://localhost:8080/"
        },
        "id": "3ELvIKfI9u9e",
        "outputId": "ab68120b-a54a-4d33-8071-e6de9216135a"
      },
      "execution_count": 24,
      "outputs": [
        {
          "output_type": "stream",
          "name": "stdout",
          "text": [
            "왼쪽: 100\n",
            "오른쪽: 200\n"
          ]
        }
      ]
    },
    {
      "cell_type": "code",
      "source": [
        "# 230\n",
        "\n",
        "def my_print (a, b) :\n",
        "    print(\"왼쪽:\", a)\n",
        "    print(\"오른쪽:\", b)\n",
        "\n",
        "my_print(b=100, a=200)"
      ],
      "metadata": {
        "colab": {
          "base_uri": "https://localhost:8080/"
        },
        "id": "-zAtGYhe-Qsf",
        "outputId": "b5c658f0-fd5a-4734-e61a-ca7d6f428176"
      },
      "execution_count": 25,
      "outputs": [
        {
          "output_type": "stream",
          "name": "stdout",
          "text": [
            "왼쪽: 200\n",
            "오른쪽: 100\n"
          ]
        }
      ]
    },
    {
      "cell_type": "code",
      "source": [
        "# 231\n",
        "\n",
        "'''\n",
        "def n_plus_1 (n) :\n",
        "    result = n + 1\n",
        "\n",
        "n_plus_1(3)\n",
        "print (result)\n",
        "'''"
      ],
      "metadata": {
        "colab": {
          "base_uri": "https://localhost:8080/",
          "height": 36
        },
        "id": "_efOXazh-bhm",
        "outputId": "72a4ec1c-4307-4f22-8480-f7bd3d3bd693"
      },
      "execution_count": 28,
      "outputs": [
        {
          "output_type": "execute_result",
          "data": {
            "text/plain": [
              "'\\ndef n_plus_1 (n) :\\n    result = n + 1\\n\\nn_plus_1(3)\\nprint (result)\\n'"
            ],
            "application/vnd.google.colaboratory.intrinsic+json": {
              "type": "string"
            }
          },
          "metadata": {},
          "execution_count": 28
        }
      ]
    },
    {
      "cell_type": "code",
      "source": [
        "# 232\n",
        "\n",
        "def make_url(string):\n",
        "  print('www.{}.com'.format(string))\n",
        "\n",
        "make_url(\"naver\")"
      ],
      "metadata": {
        "colab": {
          "base_uri": "https://localhost:8080/"
        },
        "id": "uvqM4qIp-_41",
        "outputId": "fb236a59-d28f-4ac2-e10d-ca7fac0eeb64"
      },
      "execution_count": 32,
      "outputs": [
        {
          "output_type": "stream",
          "name": "stdout",
          "text": [
            "www.naver.com\n"
          ]
        }
      ]
    },
    {
      "cell_type": "code",
      "source": [
        "# 233\n",
        "\n",
        "def make_list(string):\n",
        "  made_list = []\n",
        "  for i in range(int(len(string))):\n",
        "    made_list.append(string[i])\n",
        "  return made_list\n",
        "\n",
        "make_list(\"abcd\")"
      ],
      "metadata": {
        "colab": {
          "base_uri": "https://localhost:8080/"
        },
        "id": "8ZwZhtxY_dIx",
        "outputId": "b2831fc0-6d9b-40a0-b881-f1ed886942c1"
      },
      "execution_count": 35,
      "outputs": [
        {
          "output_type": "execute_result",
          "data": {
            "text/plain": [
              "['a', 'b', 'c', 'd']"
            ]
          },
          "metadata": {},
          "execution_count": 35
        }
      ]
    },
    {
      "cell_type": "code",
      "source": [
        "# 234\n",
        "\n",
        "def pickup_even(my_list):\n",
        "  even = []\n",
        "  for i in my_list:\n",
        "    if i % 2 == 0:\n",
        "      even.append(i)\n",
        "  print(even)\n",
        "\n",
        "pickup_even([3, 4, 5, 6, 7, 8])"
      ],
      "metadata": {
        "colab": {
          "base_uri": "https://localhost:8080/"
        },
        "id": "4dZDlQ-tAhuM",
        "outputId": "ac723099-e7e0-46e9-909c-2c5212d7c533"
      },
      "execution_count": 36,
      "outputs": [
        {
          "output_type": "stream",
          "name": "stdout",
          "text": [
            "[4, 6, 8]\n"
          ]
        }
      ]
    },
    {
      "cell_type": "code",
      "source": [
        "# 235\n",
        "\n",
        "def convert_int(num_with_comma):\n",
        "  return int(num_with_comma.replace(',', ''))\n",
        "\n",
        "convert_int(\"1,234,567\")"
      ],
      "metadata": {
        "colab": {
          "base_uri": "https://localhost:8080/"
        },
        "id": "_QUQI5n7DOEL",
        "outputId": "483d477a-d2ae-44dc-c2d6-727fb6269f37"
      },
      "execution_count": 38,
      "outputs": [
        {
          "output_type": "execute_result",
          "data": {
            "text/plain": [
              "1234567"
            ]
          },
          "metadata": {},
          "execution_count": 38
        }
      ]
    },
    {
      "cell_type": "code",
      "source": [
        "# 236\n",
        "\n",
        "def 함수(num) :\n",
        "    return num + 4\n",
        "\n",
        "a = 함수(10)\n",
        "b = 함수(a)\n",
        "c = 함수(b)\n",
        "print(c)    # 22"
      ],
      "metadata": {
        "colab": {
          "base_uri": "https://localhost:8080/"
        },
        "id": "RILwGa01zDpv",
        "outputId": "33c32dd1-74ef-487d-9dce-5180aff4547c"
      },
      "execution_count": 39,
      "outputs": [
        {
          "output_type": "stream",
          "name": "stdout",
          "text": [
            "22\n"
          ]
        }
      ]
    },
    {
      "cell_type": "code",
      "source": [
        "# 237\n",
        "\n",
        "def 함수(num) :\n",
        "    return num + 4\n",
        "\n",
        "c = 함수(함수(함수(10)))\n",
        "print(c)    # 22"
      ],
      "metadata": {
        "colab": {
          "base_uri": "https://localhost:8080/"
        },
        "id": "zwqOoDoQzjS9",
        "outputId": "33bd5a95-1955-4ca6-dc7f-c9209789c441"
      },
      "execution_count": 40,
      "outputs": [
        {
          "output_type": "stream",
          "name": "stdout",
          "text": [
            "22\n"
          ]
        }
      ]
    },
    {
      "cell_type": "code",
      "source": [
        "# 238\n",
        "\n",
        "def 함수1(num) :\n",
        "    return num + 4\n",
        "\n",
        "def 함수2(num) :\n",
        "    return num * 10\n",
        "\n",
        "a = 함수1(10)\n",
        "c = 함수2(a)\n",
        "print(c)    # 140"
      ],
      "metadata": {
        "colab": {
          "base_uri": "https://localhost:8080/"
        },
        "id": "LaJlNXxTztUE",
        "outputId": "b325388b-c2d8-4d49-ef8e-e59028bb4562"
      },
      "execution_count": 41,
      "outputs": [
        {
          "output_type": "stream",
          "name": "stdout",
          "text": [
            "140\n"
          ]
        }
      ]
    },
    {
      "cell_type": "code",
      "source": [
        "# 239\n",
        "\n",
        "def 함수1(num) :\n",
        "    return num + 4\n",
        "\n",
        "def 함수2(num) :\n",
        "    num = num + 2\n",
        "    return 함수1(num)\n",
        "\n",
        "c = 함수2(10)\n",
        "print(c)    # 16"
      ],
      "metadata": {
        "colab": {
          "base_uri": "https://localhost:8080/"
        },
        "id": "yNulRPtqz0Ox",
        "outputId": "259b697a-d800-48a0-bb90-352ed1d0f4e1"
      },
      "execution_count": 42,
      "outputs": [
        {
          "output_type": "stream",
          "name": "stdout",
          "text": [
            "16\n"
          ]
        }
      ]
    },
    {
      "cell_type": "code",
      "source": [
        "# 240\n",
        "\n",
        "def 함수0(num) :\n",
        "    return num * 2\n",
        "\n",
        "def 함수1(num) :\n",
        "    return 함수0(num + 2)\n",
        "\n",
        "def 함수2(num) :\n",
        "    num = num + 10\n",
        "    return 함수1(num)\n",
        "\n",
        "c = 함수2(2)\n",
        "print(c)    # 28"
      ],
      "metadata": {
        "colab": {
          "base_uri": "https://localhost:8080/"
        },
        "id": "xBop3mq60C-8",
        "outputId": "b1c02034-81a3-4fcb-c236-c3ee59d88b54"
      },
      "execution_count": 43,
      "outputs": [
        {
          "output_type": "stream",
          "name": "stdout",
          "text": [
            "28\n"
          ]
        }
      ]
    },
    {
      "cell_type": "markdown",
      "source": [
        "# 파이썬 모듈"
      ],
      "metadata": {
        "id": "9_GHNEAi0mri"
      }
    },
    {
      "cell_type": "code",
      "source": [
        "# 241\n",
        "\n",
        "import datetime\n",
        "\n",
        "now = datetime.datetime.now()\n",
        "\n",
        "print(now)"
      ],
      "metadata": {
        "colab": {
          "base_uri": "https://localhost:8080/"
        },
        "id": "09eCIFOf0pba",
        "outputId": "fa59b3d3-ea54-4a6d-8bdf-0d02b1ad5144"
      },
      "execution_count": 45,
      "outputs": [
        {
          "output_type": "stream",
          "name": "stdout",
          "text": [
            "2022-06-17 13:22:28.940528\n"
          ]
        }
      ]
    },
    {
      "cell_type": "code",
      "source": [
        "# 242\n",
        "\n",
        "print(now, type(now))"
      ],
      "metadata": {
        "colab": {
          "base_uri": "https://localhost:8080/"
        },
        "id": "XeRWr44C1BHc",
        "outputId": "77af082d-281f-4959-a6f6-90accf8d78ca"
      },
      "execution_count": 47,
      "outputs": [
        {
          "output_type": "stream",
          "name": "stdout",
          "text": [
            "2022-06-17 13:22:28.940528 <class 'datetime.datetime'>\n"
          ]
        }
      ]
    },
    {
      "cell_type": "code",
      "source": [
        "# 243\n",
        "\n",
        "for day in range(5, 0, -1):\n",
        "  delta = datetime.timedelta(days=day)\n",
        "  date = now - delta\n",
        "  print(date)"
      ],
      "metadata": {
        "colab": {
          "base_uri": "https://localhost:8080/"
        },
        "id": "cmITYMcT1WXB",
        "outputId": "7afe01f2-71ce-483a-81be-24eadcb07dc1"
      },
      "execution_count": 51,
      "outputs": [
        {
          "output_type": "stream",
          "name": "stdout",
          "text": [
            "2022-06-12 13:22:28.940528\n",
            "2022-06-13 13:22:28.940528\n",
            "2022-06-14 13:22:28.940528\n",
            "2022-06-15 13:22:28.940528\n",
            "2022-06-16 13:22:28.940528\n"
          ]
        }
      ]
    },
    {
      "cell_type": "code",
      "source": [
        "# 244\n",
        "\n",
        "print(now.strftime(\"%H:%M:%S\"))"
      ],
      "metadata": {
        "colab": {
          "base_uri": "https://localhost:8080/"
        },
        "id": "9JN2O83m1mQo",
        "outputId": "d8c2b308-4bd0-460b-bb5f-05cc914e37d5"
      },
      "execution_count": 60,
      "outputs": [
        {
          "output_type": "stream",
          "name": "stdout",
          "text": [
            "13:22:28\n"
          ]
        }
      ]
    },
    {
      "cell_type": "code",
      "source": [
        "# 245\n",
        "\n",
        "day = \"2020-05-04\"\n",
        "ret = datetime.datetime.strptime(day, \"%Y-%m-%d\")\n",
        "print(ret, type(ret))"
      ],
      "metadata": {
        "colab": {
          "base_uri": "https://localhost:8080/"
        },
        "id": "LBXVb8Qm2sZT",
        "outputId": "dae34ac2-712f-49a8-f904-8132aa3f3f12"
      },
      "execution_count": 63,
      "outputs": [
        {
          "output_type": "stream",
          "name": "stdout",
          "text": [
            "2020-05-04 00:00:00 <class 'datetime.datetime'>\n"
          ]
        }
      ]
    },
    {
      "cell_type": "code",
      "source": [
        "# 246\n",
        "\n",
        "import time\n",
        "\n",
        "while True:\n",
        "  now = datetime.datetime.now()\n",
        "  print(now)\n",
        "  time.sleep(1)"
      ],
      "metadata": {
        "colab": {
          "base_uri": "https://localhost:8080/",
          "height": 1000
        },
        "id": "BfalKJui3Fow",
        "outputId": "db43f1be-c13f-4dba-ef81-6f6076956d4e"
      },
      "execution_count": 64,
      "outputs": [
        {
          "output_type": "stream",
          "name": "stdout",
          "text": [
            "2022-06-17 13:32:37.678496\n",
            "2022-06-17 13:32:38.682158\n",
            "2022-06-17 13:32:39.683484\n",
            "2022-06-17 13:32:40.684808\n",
            "2022-06-17 13:32:41.686072\n",
            "2022-06-17 13:32:42.687332\n",
            "2022-06-17 13:32:43.688705\n",
            "2022-06-17 13:32:44.689974\n",
            "2022-06-17 13:32:45.691227\n",
            "2022-06-17 13:32:46.692536\n",
            "2022-06-17 13:32:47.693842\n",
            "2022-06-17 13:32:48.695194\n",
            "2022-06-17 13:32:49.696578\n",
            "2022-06-17 13:32:50.697978\n",
            "2022-06-17 13:32:51.698610\n",
            "2022-06-17 13:32:52.699600\n",
            "2022-06-17 13:32:53.700938\n",
            "2022-06-17 13:32:54.702259\n",
            "2022-06-17 13:32:55.703527\n",
            "2022-06-17 13:32:56.704809\n",
            "2022-06-17 13:32:57.706090\n",
            "2022-06-17 13:32:58.707449\n",
            "2022-06-17 13:32:59.708770\n",
            "2022-06-17 13:33:00.710110\n",
            "2022-06-17 13:33:01.711456\n",
            "2022-06-17 13:33:02.712867\n",
            "2022-06-17 13:33:03.714144\n",
            "2022-06-17 13:33:04.715578\n",
            "2022-06-17 13:33:05.716903\n",
            "2022-06-17 13:33:06.718174\n",
            "2022-06-17 13:33:07.719576\n",
            "2022-06-17 13:33:08.720933\n",
            "2022-06-17 13:33:09.722193\n",
            "2022-06-17 13:33:10.723476\n",
            "2022-06-17 13:33:11.724859\n",
            "2022-06-17 13:33:12.726204\n",
            "2022-06-17 13:33:13.727520\n",
            "2022-06-17 13:33:14.727882\n",
            "2022-06-17 13:33:15.729211\n",
            "2022-06-17 13:33:16.730521\n",
            "2022-06-17 13:33:17.731863\n",
            "2022-06-17 13:33:18.733167\n",
            "2022-06-17 13:33:19.734449\n",
            "2022-06-17 13:33:20.735688\n",
            "2022-06-17 13:33:21.736981\n"
          ]
        },
        {
          "output_type": "error",
          "ename": "KeyboardInterrupt",
          "evalue": "ignored",
          "traceback": [
            "\u001b[0;31m---------------------------------------------------------------------------\u001b[0m",
            "\u001b[0;31mKeyboardInterrupt\u001b[0m                         Traceback (most recent call last)",
            "\u001b[0;32m<ipython-input-64-837f46d71f5f>\u001b[0m in \u001b[0;36m<module>\u001b[0;34m()\u001b[0m\n\u001b[1;32m      6\u001b[0m   \u001b[0mnow\u001b[0m \u001b[0;34m=\u001b[0m \u001b[0mdatetime\u001b[0m\u001b[0;34m.\u001b[0m\u001b[0mdatetime\u001b[0m\u001b[0;34m.\u001b[0m\u001b[0mnow\u001b[0m\u001b[0;34m(\u001b[0m\u001b[0;34m)\u001b[0m\u001b[0;34m\u001b[0m\u001b[0;34m\u001b[0m\u001b[0m\n\u001b[1;32m      7\u001b[0m   \u001b[0mprint\u001b[0m\u001b[0;34m(\u001b[0m\u001b[0mnow\u001b[0m\u001b[0;34m)\u001b[0m\u001b[0;34m\u001b[0m\u001b[0;34m\u001b[0m\u001b[0m\n\u001b[0;32m----> 8\u001b[0;31m   \u001b[0mtime\u001b[0m\u001b[0;34m.\u001b[0m\u001b[0msleep\u001b[0m\u001b[0;34m(\u001b[0m\u001b[0;36m1\u001b[0m\u001b[0;34m)\u001b[0m\u001b[0;34m\u001b[0m\u001b[0;34m\u001b[0m\u001b[0m\n\u001b[0m",
            "\u001b[0;31mKeyboardInterrupt\u001b[0m: "
          ]
        }
      ]
    },
    {
      "cell_type": "code",
      "source": [
        "# 247"
      ],
      "metadata": {
        "id": "zbDWU1ak3ZrB"
      },
      "execution_count": 65,
      "outputs": []
    },
    {
      "cell_type": "code",
      "source": [
        "# 248\n",
        "\n",
        "import os\n",
        "\n",
        "print(os.getcwd(), type(os.getcwd()))"
      ],
      "metadata": {
        "colab": {
          "base_uri": "https://localhost:8080/"
        },
        "id": "62x2YmbA3l13",
        "outputId": "e5d77bfe-ab5a-49d0-cacc-054169c0c1d6"
      },
      "execution_count": 67,
      "outputs": [
        {
          "output_type": "stream",
          "name": "stdout",
          "text": [
            "/content <class 'str'>\n"
          ]
        }
      ]
    },
    {
      "cell_type": "code",
      "source": [
        "from google.colab import drive\n",
        "drive.mount('/content/drive')"
      ],
      "metadata": {
        "colab": {
          "base_uri": "https://localhost:8080/"
        },
        "id": "jYRp9acw4C0d",
        "outputId": "4713371a-a969-4c27-a450-0f5acd44ff32"
      },
      "execution_count": 68,
      "outputs": [
        {
          "output_type": "stream",
          "name": "stdout",
          "text": [
            "Mounted at /content/drive\n"
          ]
        }
      ]
    },
    {
      "cell_type": "code",
      "source": [
        "# 249\n",
        "\n",
        "os.rename(\"/content/drive/MyDrive/d.gdoc\", \"/content/drive/MyDrive/ddd.gdoc\")"
      ],
      "metadata": {
        "id": "tzkgH-Rt310v"
      },
      "execution_count": 69,
      "outputs": []
    },
    {
      "cell_type": "code",
      "source": [
        "# 250\n",
        "\n",
        "import numpy as np\n",
        "\n",
        "for i in np.arange(0, 5, 0.1):\n",
        "  print(i)"
      ],
      "metadata": {
        "colab": {
          "base_uri": "https://localhost:8080/"
        },
        "id": "EDZ197D_4lih",
        "outputId": "530527a3-8997-43f2-e09e-118ca71ab083"
      },
      "execution_count": 71,
      "outputs": [
        {
          "output_type": "stream",
          "name": "stdout",
          "text": [
            "0.0\n",
            "0.1\n",
            "0.2\n",
            "0.30000000000000004\n",
            "0.4\n",
            "0.5\n",
            "0.6000000000000001\n",
            "0.7000000000000001\n",
            "0.8\n",
            "0.9\n",
            "1.0\n",
            "1.1\n",
            "1.2000000000000002\n",
            "1.3\n",
            "1.4000000000000001\n",
            "1.5\n",
            "1.6\n",
            "1.7000000000000002\n",
            "1.8\n",
            "1.9000000000000001\n",
            "2.0\n",
            "2.1\n",
            "2.2\n",
            "2.3000000000000003\n",
            "2.4000000000000004\n",
            "2.5\n",
            "2.6\n",
            "2.7\n",
            "2.8000000000000003\n",
            "2.9000000000000004\n",
            "3.0\n",
            "3.1\n",
            "3.2\n",
            "3.3000000000000003\n",
            "3.4000000000000004\n",
            "3.5\n",
            "3.6\n",
            "3.7\n",
            "3.8000000000000003\n",
            "3.9000000000000004\n",
            "4.0\n",
            "4.1000000000000005\n",
            "4.2\n",
            "4.3\n",
            "4.4\n",
            "4.5\n",
            "4.6000000000000005\n",
            "4.7\n",
            "4.800000000000001\n",
            "4.9\n"
          ]
        }
      ]
    },
    {
      "cell_type": "markdown",
      "source": [
        "# 파이썬 클래스"
      ],
      "metadata": {
        "id": "xe-9qZOG40YF"
      }
    },
    {
      "cell_type": "code",
      "source": [
        "# 251"
      ],
      "metadata": {
        "id": "gYAU3A435H97"
      },
      "execution_count": 72,
      "outputs": []
    },
    {
      "cell_type": "code",
      "source": [
        "# 252\n",
        "\n",
        "class Human:\n",
        "  pass"
      ],
      "metadata": {
        "id": "iSKXhWrU7Ngi"
      },
      "execution_count": 73,
      "outputs": []
    },
    {
      "cell_type": "code",
      "source": [
        "# 253\n",
        "\n",
        "class Human:\n",
        "  pass\n",
        "\n",
        "areum = Human()"
      ],
      "metadata": {
        "id": "Rgs84ILK7dqT"
      },
      "execution_count": 74,
      "outputs": []
    },
    {
      "cell_type": "code",
      "source": [
        "# 254\n",
        "\n",
        "class Human:\n",
        "  def __init__(self):\n",
        "    print(\"응애응애\")\n",
        "\n",
        "areum = Human()"
      ],
      "metadata": {
        "colab": {
          "base_uri": "https://localhost:8080/"
        },
        "id": "R-awl1v-7olZ",
        "outputId": "8879b00c-64c7-4427-e48b-42f94ce6cc2c"
      },
      "execution_count": 76,
      "outputs": [
        {
          "output_type": "stream",
          "name": "stdout",
          "text": [
            "응애응애\n"
          ]
        }
      ]
    },
    {
      "cell_type": "code",
      "source": [
        "# 255\n",
        "\n",
        "class Human:\n",
        "  def __init__(self, name, age, sex):\n",
        "    self.name = name\n",
        "    self.age = age\n",
        "    self.sex = sex\n",
        "\n",
        "areum = Human(\"아름\", 25, \"여자\")\n",
        "\n",
        "print(areum.name)"
      ],
      "metadata": {
        "colab": {
          "base_uri": "https://localhost:8080/"
        },
        "id": "8fGh01cD71gK",
        "outputId": "117d0489-95b0-4933-e9e4-291b2044fa7b"
      },
      "execution_count": 79,
      "outputs": [
        {
          "output_type": "stream",
          "name": "stdout",
          "text": [
            "아름\n"
          ]
        }
      ]
    },
    {
      "cell_type": "code",
      "source": [
        "# 256\n",
        "\n",
        "print(areum.name, areum.age, areum.sex)"
      ],
      "metadata": {
        "colab": {
          "base_uri": "https://localhost:8080/"
        },
        "id": "xHQwc7At8onq",
        "outputId": "dc2d2585-c53f-4d9e-dd27-9512ce3bdfd3"
      },
      "execution_count": 81,
      "outputs": [
        {
          "output_type": "stream",
          "name": "stdout",
          "text": [
            "아름 25 여자\n"
          ]
        }
      ]
    },
    {
      "cell_type": "code",
      "source": [
        "# 257\n",
        "\n",
        "class Human:\n",
        "  def __init__(self, name, age, sex):\n",
        "    self.name = name\n",
        "    self.age = age\n",
        "    self.sex = sex\n",
        "  \n",
        "  def who(self):\n",
        "    print(\"이름: {}, 나이: {}, 성별: {}\".format(self.name, self.age, self.sex))\n",
        "\n",
        "areum = Human(\"조아름\", 25, \"여자\")\n",
        "\n",
        "areum.who()"
      ],
      "metadata": {
        "colab": {
          "base_uri": "https://localhost:8080/"
        },
        "id": "E7f123mO9dQi",
        "outputId": "35970f25-145e-43e4-fb0d-1612b015c437"
      },
      "execution_count": 84,
      "outputs": [
        {
          "output_type": "stream",
          "name": "stdout",
          "text": [
            "이름: 조아름, 나이: 25, 성별: 여자\n"
          ]
        }
      ]
    },
    {
      "cell_type": "code",
      "source": [
        "# 258\n",
        "\n",
        "class Human:\n",
        "  def __init__(self, name=\"모름\", age=0, sex=\"모름\"):\n",
        "    self.name = name\n",
        "    self.age = age\n",
        "    self.sex = sex\n",
        "\n",
        "  def who(self):\n",
        "    print(\"이름: {}, 나이: {}, 성별: {}\".format(self.name, self.age, self.sex))\n",
        "\n",
        "  def setInfo(self, name, age, sex):\n",
        "    self.name = name\n",
        "    self.age = age\n",
        "    self.sex = sex\n",
        "\n",
        "areum = Human()\n",
        "Human.who(areum)\n",
        "\n",
        "areum.setInfo(\"아름\", 25, \"여자\")\n",
        "areum.who()"
      ],
      "metadata": {
        "colab": {
          "base_uri": "https://localhost:8080/"
        },
        "id": "EvRTE4T--w3k",
        "outputId": "b6cfc62f-c966-4b42-819c-94542467366f"
      },
      "execution_count": 92,
      "outputs": [
        {
          "output_type": "stream",
          "name": "stdout",
          "text": [
            "이름: 모름, 나이: 0, 성별: 모름\n",
            "이름: 아름, 나이: 25, 성별: 여자\n"
          ]
        }
      ]
    },
    {
      "cell_type": "code",
      "source": [
        "# 259\n",
        "\n",
        "class Human:\n",
        "  def __init__(self, name=\"모름\", age=0, sex=\"모름\"):\n",
        "    self.name = name\n",
        "    self.age = age\n",
        "    self.sex = sex\n",
        "\n",
        "  def __del__(self):\n",
        "    print(\"나의 죽음을 적에게 알리지 마라.\")\n",
        "\n",
        "  def who(self):\n",
        "    print(\"이름: {}, 나이: {}, 성별: {}\".format(self.name, self.age, self.sex))\n",
        "\n",
        "  def setInfo(self, name, age, sex):\n",
        "    self.name = name\n",
        "    self.age = age\n",
        "    self.sex = sex\n",
        "\n",
        "areum = Human(\"아름\", 25, \"여자\")\n",
        "del(areum)"
      ],
      "metadata": {
        "colab": {
          "base_uri": "https://localhost:8080/"
        },
        "id": "908m8LBkAgYU",
        "outputId": "72a26b73-9e8a-441c-cf6f-ee9bfae8cc82"
      },
      "execution_count": 98,
      "outputs": [
        {
          "output_type": "stream",
          "name": "stdout",
          "text": [
            "나의 죽음을 적에게 알리지 마라.\n"
          ]
        }
      ]
    },
    {
      "cell_type": "code",
      "source": [
        "# 260\n",
        "\n",
        "class OMG : \n",
        "    def print(self) : # self가 빠져서 에러가 나는 것임\n",
        "        print(\"Oh my god\")\n",
        "\n",
        "my_stock = OMG()\n",
        "my_stock.print()\n",
        "\n",
        "# OMG.print(my_stock)"
      ],
      "metadata": {
        "colab": {
          "base_uri": "https://localhost:8080/"
        },
        "id": "oxsPFvkgCBcn",
        "outputId": "daf5fc38-50a9-47ba-fbbe-f92199297178"
      },
      "execution_count": 104,
      "outputs": [
        {
          "output_type": "stream",
          "name": "stdout",
          "text": [
            "Oh my god\n"
          ]
        }
      ]
    },
    {
      "cell_type": "code",
      "source": [
        "# 261\n",
        "\n"
      ],
      "metadata": {
        "id": "tskVV0ioC1D6"
      },
      "execution_count": null,
      "outputs": []
    }
  ]
}