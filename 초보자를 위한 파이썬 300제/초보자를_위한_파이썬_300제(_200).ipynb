{
  "nbformat": 4,
  "nbformat_minor": 0,
  "metadata": {
    "colab": {
      "name": "초보자를 위한 파이썬 300제(~200).ipynb",
      "provenance": [],
      "collapsed_sections": []
    },
    "kernelspec": {
      "name": "python3",
      "display_name": "Python 3"
    },
    "language_info": {
      "name": "python"
    }
  },
  "cells": [
    {
      "cell_type": "markdown",
      "source": [
        "# 파이썬 분기문"
      ],
      "metadata": {
        "id": "xsgjNTCuSdcu"
      }
    },
    {
      "cell_type": "code",
      "execution_count": 1,
      "metadata": {
        "id": "vEa65GkG00af"
      },
      "outputs": [],
      "source": [
        "# 101\n",
        "\n",
        "# 파이썬에서 True 혹은 False를 갖는 데이터 타입은 무엇인가?\n",
        "\n",
        "# bool"
      ]
    },
    {
      "cell_type": "code",
      "source": [
        "# 102\n",
        "\n",
        "print(3 == 5)"
      ],
      "metadata": {
        "colab": {
          "base_uri": "https://localhost:8080/"
        },
        "id": "kk-TOUclSANB",
        "outputId": "90ed3425-7e17-4113-a34b-14ebc4f17ffa"
      },
      "execution_count": 2,
      "outputs": [
        {
          "output_type": "stream",
          "name": "stdout",
          "text": [
            "False\n"
          ]
        }
      ]
    },
    {
      "cell_type": "code",
      "source": [
        "# 103\n",
        "\n",
        "print(3 < 5)"
      ],
      "metadata": {
        "colab": {
          "base_uri": "https://localhost:8080/"
        },
        "id": "2pTro3tiSMKO",
        "outputId": "76e4608d-7922-42a1-8fb0-09ddf45a5124"
      },
      "execution_count": 3,
      "outputs": [
        {
          "output_type": "stream",
          "name": "stdout",
          "text": [
            "True\n"
          ]
        }
      ]
    },
    {
      "cell_type": "code",
      "source": [
        "# 104\n",
        "\n",
        "x = 4\n",
        "\n",
        "print(1 < x < 5)"
      ],
      "metadata": {
        "colab": {
          "base_uri": "https://localhost:8080/"
        },
        "id": "R-JKyHj1SQ66",
        "outputId": "3ebad5e5-8a56-48b6-ed3b-83f416396539"
      },
      "execution_count": 4,
      "outputs": [
        {
          "output_type": "stream",
          "name": "stdout",
          "text": [
            "True\n"
          ]
        }
      ]
    },
    {
      "cell_type": "code",
      "source": [
        "# 105\n",
        "\n",
        "print((3 == 3) and (4 != 3))"
      ],
      "metadata": {
        "colab": {
          "base_uri": "https://localhost:8080/"
        },
        "id": "s-nbu5S2SVJg",
        "outputId": "84a5ff7a-d085-4684-9eba-ac47bc1110b5"
      },
      "execution_count": 5,
      "outputs": [
        {
          "output_type": "stream",
          "name": "stdout",
          "text": [
            "True\n"
          ]
        }
      ]
    },
    {
      "cell_type": "code",
      "source": [
        "# 106\n",
        "\n",
        "print(3 => 4) # >= 으로 바꿔서 사용해야 함"
      ],
      "metadata": {
        "colab": {
          "base_uri": "https://localhost:8080/",
          "height": 134
        },
        "id": "5zRNtSzRSb3V",
        "outputId": "719c0961-4a52-428d-f49b-12b2d6a1bdd1"
      },
      "execution_count": 6,
      "outputs": [
        {
          "output_type": "error",
          "ename": "SyntaxError",
          "evalue": "ignored",
          "traceback": [
            "\u001b[0;36m  File \u001b[0;32m\"<ipython-input-6-73d1778316a7>\"\u001b[0;36m, line \u001b[0;32m1\u001b[0m\n\u001b[0;31m    print(3 => 4)\u001b[0m\n\u001b[0m             ^\u001b[0m\n\u001b[0;31mSyntaxError\u001b[0m\u001b[0;31m:\u001b[0m invalid syntax\n"
          ]
        }
      ]
    },
    {
      "cell_type": "code",
      "source": [
        "# 107\n",
        "\n",
        "if 4 < 3:\n",
        "  print(\"Hello World\")"
      ],
      "metadata": {
        "id": "pAK3_ePBSkHF"
      },
      "execution_count": 8,
      "outputs": []
    },
    {
      "cell_type": "code",
      "source": [
        "# 108\n",
        "\n",
        "if 4 < 3:\n",
        "  print((\"Hello World\"))\n",
        "else:\n",
        "  print(\"Hi, there.\")"
      ],
      "metadata": {
        "colab": {
          "base_uri": "https://localhost:8080/"
        },
        "id": "ZmZy8dk1SzfT",
        "outputId": "b83d107d-6144-4998-f003-4786d2e542fb"
      },
      "execution_count": 9,
      "outputs": [
        {
          "output_type": "stream",
          "name": "stdout",
          "text": [
            "Hi, there.\n"
          ]
        }
      ]
    },
    {
      "cell_type": "code",
      "source": [
        "# 109\n",
        "\n",
        "if True:\n",
        "  print(\"1\")\n",
        "  print(\"2\")\n",
        "else:\n",
        "  print(\"3\")\n",
        "print(\"4\")"
      ],
      "metadata": {
        "colab": {
          "base_uri": "https://localhost:8080/"
        },
        "id": "K-CKnLimTDym",
        "outputId": "1afdd05f-df71-4f77-e3d5-07a5c56fecbe"
      },
      "execution_count": 10,
      "outputs": [
        {
          "output_type": "stream",
          "name": "stdout",
          "text": [
            "1\n",
            "2\n",
            "4\n"
          ]
        }
      ]
    },
    {
      "cell_type": "code",
      "source": [
        "# 110\n",
        "\n",
        "if True:\n",
        "  if False:\n",
        "    print(\"1\")\n",
        "    print(\"2\")\n",
        "  else:\n",
        "    print(\"3\")\n",
        "else:\n",
        "  print(\"4\")\n",
        "print(\"5\")"
      ],
      "metadata": {
        "colab": {
          "base_uri": "https://localhost:8080/"
        },
        "id": "lO3R8Bc9TNrz",
        "outputId": "d51f6b14-78d5-4ef8-d89b-ff0901db6cb1"
      },
      "execution_count": 11,
      "outputs": [
        {
          "output_type": "stream",
          "name": "stdout",
          "text": [
            "3\n",
            "5\n"
          ]
        }
      ]
    },
    {
      "cell_type": "code",
      "source": [
        "# 111\n",
        "\n",
        "user = input(\"입력:\")\n",
        "print(user * 2)"
      ],
      "metadata": {
        "colab": {
          "base_uri": "https://localhost:8080/"
        },
        "id": "iHWBveevTgY_",
        "outputId": "24b028bf-489a-4008-e5e8-b428133784a2"
      },
      "execution_count": 13,
      "outputs": [
        {
          "output_type": "stream",
          "name": "stdout",
          "text": [
            "입력:안녕하세요\n",
            "안녕하세요안녕하세요\n"
          ]
        }
      ]
    },
    {
      "cell_type": "code",
      "source": [
        "# 112\n",
        "\n",
        "user = input(\"숫자를 입력하세요: \")\n",
        "print(int(user) + 10)"
      ],
      "metadata": {
        "colab": {
          "base_uri": "https://localhost:8080/"
        },
        "id": "qt4X3Z35T6vE",
        "outputId": "d280ae5d-82a9-4ebc-d657-64f182772a51"
      },
      "execution_count": 16,
      "outputs": [
        {
          "output_type": "stream",
          "name": "stdout",
          "text": [
            "숫자를 입력하세요: 30\n",
            "40\n"
          ]
        }
      ]
    },
    {
      "cell_type": "code",
      "source": [
        "# 113\n",
        "\n",
        "user = input(\"\")\n",
        "\n",
        "if int(user) % 2 == 1:\n",
        "  print(\"홀수\")\n",
        "else:\n",
        "  print(\"짝수\")"
      ],
      "metadata": {
        "colab": {
          "base_uri": "https://localhost:8080/"
        },
        "id": "Rd0osvLIURLx",
        "outputId": "44339ac7-eef0-4882-f343-f4809467ac1d"
      },
      "execution_count": 20,
      "outputs": [
        {
          "output_type": "stream",
          "name": "stdout",
          "text": [
            "30\n",
            "짝수\n"
          ]
        }
      ]
    },
    {
      "cell_type": "code",
      "source": [
        "# 114\n",
        "\n",
        "user = input(\"입력값: \")\n",
        "\n",
        "if int(user) + 20 > 255:\n",
        "  print(\"출력값:\", 255)\n",
        "else:\n",
        "  print(\"출력값:\", int(user) + 20)"
      ],
      "metadata": {
        "colab": {
          "base_uri": "https://localhost:8080/"
        },
        "id": "X6DqtuuEU7Kn",
        "outputId": "eee9cc8c-d4aa-4181-988c-a05ace9eee76"
      },
      "execution_count": 27,
      "outputs": [
        {
          "output_type": "stream",
          "name": "stdout",
          "text": [
            "입력값: 240\n",
            "출력값: 255\n"
          ]
        }
      ]
    },
    {
      "cell_type": "code",
      "source": [
        "# 115\n",
        "\n",
        "user = input(\"입력값: \")\n",
        "num = (int(user) - 20)\n",
        "\n",
        "if num < 0:\n",
        "  print(\"출력값:\", 0)\n",
        "elif num > 255:\n",
        "  print(\"출력값:\", 255)\n",
        "else:\n",
        "  print(\"출력값:\", num)"
      ],
      "metadata": {
        "colab": {
          "base_uri": "https://localhost:8080/"
        },
        "id": "IpnRnLl1V4uW",
        "outputId": "b1379330-f31b-4682-f6ac-ddef202219ff"
      },
      "execution_count": 30,
      "outputs": [
        {
          "output_type": "stream",
          "name": "stdout",
          "text": [
            "입력값: 300\n",
            "출력값: 255\n"
          ]
        }
      ]
    },
    {
      "cell_type": "code",
      "source": [
        "# 116\n",
        "\n",
        "time = input(\"현재시간: \")\n",
        "\n",
        "if time[-2:] == \"00\":\n",
        "  print(\"정각입니다.\")\n",
        "else:\n",
        "  print(\"정각이 아닙니다.\")"
      ],
      "metadata": {
        "colab": {
          "base_uri": "https://localhost:8080/"
        },
        "id": "ne5sW63TX3Yj",
        "outputId": "8febab0a-dc92-40ab-b4d9-c5f4c3944d5e"
      },
      "execution_count": 31,
      "outputs": [
        {
          "output_type": "stream",
          "name": "stdout",
          "text": [
            "현재시간: 17:01\n",
            "정각이 아닙니다.\n"
          ]
        }
      ]
    },
    {
      "cell_type": "code",
      "source": [
        "# 117\n",
        "\n",
        "fruit = [\"사과\", \"포도\", \"홍시\"]\n",
        "\n",
        "user = input(\"좋아하는 과일은? \")\n",
        "\n",
        "if user in fruit:\n",
        "  print(\"정답입니다.\")\n",
        "else:\n",
        "  print(\"오답입니다.\")"
      ],
      "metadata": {
        "colab": {
          "base_uri": "https://localhost:8080/"
        },
        "id": "qefjOx5VYaUk",
        "outputId": "6432b2f4-5619-456c-f3f8-9cbfc38eab5c"
      },
      "execution_count": 33,
      "outputs": [
        {
          "output_type": "stream",
          "name": "stdout",
          "text": [
            "좋아하는 과일은? 사과\n",
            "정답입니다.\n"
          ]
        }
      ]
    },
    {
      "cell_type": "code",
      "source": [
        "# 118\n",
        "\n",
        "warn_investment_list = [\"Microsoft\", \"Google\", \"Naver\", \"Kakao\", \"SAMSUNG\", \"LG\"]\n",
        "\n",
        "user = input(\"종목명: \")\n",
        "\n",
        "if user in warn_investment_list:\n",
        "  print(\"투자 경고 종목입니다.\")\n",
        "else:\n",
        "  print(\"투자 경고 종목이 아닙니다.\")"
      ],
      "metadata": {
        "colab": {
          "base_uri": "https://localhost:8080/"
        },
        "id": "o9ilHeWtY6pY",
        "outputId": "961bf451-76ec-4df1-b3b4-663aca4c4b96"
      },
      "execution_count": 34,
      "outputs": [
        {
          "output_type": "stream",
          "name": "stdout",
          "text": [
            "종목명: Google\n",
            "투자 경고 종목입니다.\n"
          ]
        }
      ]
    },
    {
      "cell_type": "code",
      "source": [
        "# 119\n",
        "\n",
        "fruit = {\"봄\" : \"딸기\", \"여름\" : \"토마토\", \"가을\" : \"사과\"}\n",
        "\n",
        "user = input(\"제가 좋아하는 계절은: \")\n",
        "\n",
        "if user in fruit.keys():\n",
        "  print(\"정답입니다.\")\n",
        "else:\n",
        "  print(\"오답입니다.\")"
      ],
      "metadata": {
        "colab": {
          "base_uri": "https://localhost:8080/"
        },
        "id": "5vCELpgMZjib",
        "outputId": "9f510b11-5e0f-48ee-8a5c-8acaeafddac7"
      },
      "execution_count": 36,
      "outputs": [
        {
          "output_type": "stream",
          "name": "stdout",
          "text": [
            "제가 좋아하는 계절은: 겨울\n",
            "오답입니다.\n"
          ]
        }
      ]
    },
    {
      "cell_type": "code",
      "source": [
        "# 120\n",
        "\n",
        "fruit = {\"봄\" : \"딸기\", \"여름\" : \"토마토\", \"가을\" : \"사과\"}\n",
        "\n",
        "user = input(\"좋아하는 과일은? \")\n",
        "\n",
        "if user in fruit.values():\n",
        "  print(\"정답입니다.\")\n",
        "else:\n",
        "  print(\"오답입니다.\")"
      ],
      "metadata": {
        "colab": {
          "base_uri": "https://localhost:8080/"
        },
        "id": "qR32Ns7oatey",
        "outputId": "7c69bd42-1612-43a3-aa9c-f0d7d87029ad"
      },
      "execution_count": 38,
      "outputs": [
        {
          "output_type": "stream",
          "name": "stdout",
          "text": [
            "좋아하는 과일은? 한라봉\n",
            "오답입니다.\n"
          ]
        }
      ]
    },
    {
      "cell_type": "code",
      "source": [
        "# 121\n",
        "\n",
        "user = input(\"\")\n",
        "\n",
        "if user.islower() == True:\n",
        "  print(user.upper())\n",
        "else:\n",
        "  print(user.lower())"
      ],
      "metadata": {
        "colab": {
          "base_uri": "https://localhost:8080/"
        },
        "id": "SOWyR0qwbDpE",
        "outputId": "245f4d32-4ed5-4cdb-b9c8-a3657a526bc3"
      },
      "execution_count": 40,
      "outputs": [
        {
          "output_type": "stream",
          "name": "stdout",
          "text": [
            "A\n",
            "a\n"
          ]
        }
      ]
    },
    {
      "cell_type": "code",
      "source": [
        "# 122\n",
        "\n",
        "score = input(\"score: \")\n",
        "score = int(score)\n",
        "if 81 <= score <= 100:\n",
        "  print(\"grade is A\")\n",
        "elif 61 <= score <= 80:\n",
        "  print(\"grade is B\")\n",
        "elif 41 <= score <= 60:\n",
        "  print(\"grade is C\")\n",
        "elif 21 <= score <= 40:\n",
        "  print(\"grade is D\")\n",
        "else:\n",
        "  print(\"grade is E\")"
      ],
      "metadata": {
        "colab": {
          "base_uri": "https://localhost:8080/"
        },
        "id": "TjqsEemNbolV",
        "outputId": "5fa1f1b5-87d0-4ad8-8289-437d6ce520fc"
      },
      "execution_count": 41,
      "outputs": [
        {
          "output_type": "stream",
          "name": "stdout",
          "text": [
            "score: 83\n",
            "grade is A\n"
          ]
        }
      ]
    },
    {
      "cell_type": "code",
      "source": [
        "# 123\n",
        "\n",
        "user = input(\"입력: \")\n",
        "num, currency = user.split(' ')\n",
        "\n",
        "환율 = {'달러': 1167,\n",
        "      '엔': 1.096,\n",
        "      '유로': 1268,\n",
        "      '위안': 171}\n",
        "\n",
        "print(float(num) * 환율[currency], '원')"
      ],
      "metadata": {
        "colab": {
          "base_uri": "https://localhost:8080/"
        },
        "id": "6YQlb1AGc_Vi",
        "outputId": "f6ac6956-9f99-4672-a732-3c61c826f8c9"
      },
      "execution_count": 42,
      "outputs": [
        {
          "output_type": "stream",
          "name": "stdout",
          "text": [
            "입력: 100 달러\n",
            "116700.0 원\n"
          ]
        }
      ]
    },
    {
      "cell_type": "code",
      "source": [
        "# 124\n",
        "\n",
        "number1 = input(\"number1: \")\n",
        "number2 = input(\"number2: \")\n",
        "number3 = input(\"number3: \")\n",
        "\n",
        "number1 = int(number1)\n",
        "number2 = int(number2)\n",
        "number3 = int(number3)\n",
        "\n",
        "number = [number1, number2, number3]\n",
        "\n",
        "print(max(number))"
      ],
      "metadata": {
        "colab": {
          "base_uri": "https://localhost:8080/"
        },
        "id": "2uTyMSoDfcVt",
        "outputId": "5e4d2cd6-1e6a-4d47-9f74-ee3fc542e9ec"
      },
      "execution_count": 43,
      "outputs": [
        {
          "output_type": "stream",
          "name": "stdout",
          "text": [
            "number1: 10\n",
            "number2: 9\n",
            "number3: 20\n",
            "20\n"
          ]
        }
      ]
    },
    {
      "cell_type": "code",
      "source": [
        "# 125\n",
        "\n",
        "통신사 = {'011': 'SKT',\n",
        "       '016': 'KT',\n",
        "       '019': 'LGU',\n",
        "       '010': '알수없음'}\n",
        "\n",
        "user = input(\"휴대전화 번호 입력: \")\n",
        "\n",
        "num, num1, num2 = user.split('-')\n",
        "\n",
        "print('당신은', 통신사[num], '이용자 입니다.')"
      ],
      "metadata": {
        "colab": {
          "base_uri": "https://localhost:8080/"
        },
        "id": "QWy_qZhGg6KO",
        "outputId": "d6f50a0b-ccca-4d8a-ff43-afa89fadd877"
      },
      "execution_count": 46,
      "outputs": [
        {
          "output_type": "stream",
          "name": "stdout",
          "text": [
            "휴대전화 번호 입력: 019-111-1111\n",
            "당신은 LGU 이용자 입니다.\n"
          ]
        }
      ]
    },
    {
      "cell_type": "code",
      "source": [
        "# 126\n",
        "\n",
        "post_number = {'010': '강북구',\n",
        "               '011': '강북구',\n",
        "               '012': '강북구',\n",
        "               '013': '도봉구',\n",
        "               '014': '도봉구',\n",
        "               '015': '도봉구',\n",
        "               '016': '노원구',\n",
        "               '017': '노원구',\n",
        "               '018': '노원구',\n",
        "               '019': '노원구'}\n",
        "\n",
        "user = input('우편번호: ')\n",
        "num = user\n",
        "num = num[:3]\n",
        "\n",
        "print(post_number[num])"
      ],
      "metadata": {
        "colab": {
          "base_uri": "https://localhost:8080/"
        },
        "id": "DeA4quefo0es",
        "outputId": "4c202caa-0d98-4b17-d858-05abc0dc011d"
      },
      "execution_count": 48,
      "outputs": [
        {
          "output_type": "stream",
          "name": "stdout",
          "text": [
            "우편번호: 01001\n",
            "강북구\n"
          ]
        }
      ]
    },
    {
      "cell_type": "code",
      "source": [
        "# 127\n",
        "\n",
        "id_number = input('주민등록번호: ')\n",
        "id = id_number.split('-')[1]\n",
        "\n",
        "if id[0] == '1' or id[0] == '3':\n",
        "  print(\"남자\")\n",
        "elif id[0] == '2' or id[0] == '4':\n",
        "  print(\"여자\")\n",
        "else:\n",
        "  print('당신은 로봇입니까?')"
      ],
      "metadata": {
        "colab": {
          "base_uri": "https://localhost:8080/"
        },
        "id": "EVvMc3I8uYhP",
        "outputId": "5f5febbb-deee-4423-f787-fc49d166600c"
      },
      "execution_count": 56,
      "outputs": [
        {
          "output_type": "stream",
          "name": "stdout",
          "text": [
            "주민등록번호: 010101-2020202\n",
            "여자\n"
          ]
        }
      ]
    },
    {
      "cell_type": "code",
      "source": [
        "# 128\n",
        "\n",
        "id_number = input('주민등록번호: ')\n",
        "id = id_number.split('-')[1]\n",
        "\n",
        "if 0 <= int(id[1:3]) <= 8:\n",
        "  print('서울입니다.')\n",
        "else:\n",
        "  print('서울이 아닙니다.')"
      ],
      "metadata": {
        "colab": {
          "base_uri": "https://localhost:8080/"
        },
        "id": "7gKAS6jUwDo2",
        "outputId": "a6fc06cb-b502-4571-c35d-46bd1c071710"
      },
      "execution_count": 59,
      "outputs": [
        {
          "output_type": "stream",
          "name": "stdout",
          "text": [
            "주민등록번호: 010101-4090909\n",
            "서울이 아닙니다.\n"
          ]
        }
      ]
    },
    {
      "cell_type": "code",
      "source": [
        "# 129\n",
        "\n",
        "id_number = input('주민등록번호: ')\n",
        "id = id_number.replace('-', '')\n",
        "\n",
        "first_cal = ((int(id[0])*2) + (int(id[1])*3) + (int(id[2])*4) + (int(id[3])*5) + (int(id[4])*6) + (int(id[5])*7) + \\\n",
        "             (int(id[6])*8) + (int(id[7])*9) + (int(id[8])*2) + (int(id[9])*3) + (int(id[10])*4) + (int(id[11])*5))\n",
        "second_cal = 11 - (first_cal % 11)\n",
        "third_cal = str(second_cal)\n",
        "\n",
        "print(first_cal)\n",
        "print(second_cal)\n",
        "\n",
        "if third_cal == id[-1]:\n",
        "  print('유효한 주민등록번호입니다.')\n",
        "elif third_cal == '10' and id[-1] == '0':\n",
        "  print('유효한 주민등록번호입니다.')\n",
        "else:\n",
        "  print('유효하지 않은 주민등록번호입니다.')"
      ],
      "metadata": {
        "colab": {
          "base_uri": "https://localhost:8080/"
        },
        "id": "PHSOtbpbyQmg",
        "outputId": "8846d92b-7666-41fb-da2b-f7fe17eeae8f"
      },
      "execution_count": 31,
      "outputs": [
        {
          "output_type": "stream",
          "name": "stdout",
          "text": [
            "주민등록번호: 821010-1635210\n",
            "128\n",
            "4\n",
            "유효하지 않은 주민등록번호입니다.\n"
          ]
        }
      ]
    },
    {
      "cell_type": "code",
      "source": [
        "# 130\n",
        "\n",
        "import requests\n",
        "\n",
        "btc = requests.get(\"https://api.bithumb.com/public/ticker/\").json()['data']\n",
        "변동폭 = int(btc['max_price']) - int(btc['min_price'])\n",
        "\n",
        "print('opening_price:', btc['opening_price'])\n",
        "print('max_price:', btc['max_price'])\n",
        "print('min_price:', btc['min_price'])\n",
        "print('변동폭:', 변동폭)\n",
        "\n",
        "if (int(btc['opening_price']) + 변동폭) > int(btc['max_price']):\n",
        "  print(\"상승장\")\n",
        "else:\n",
        "  print(\"하락장\")"
      ],
      "metadata": {
        "colab": {
          "base_uri": "https://localhost:8080/"
        },
        "id": "fkhaufEg0wJZ",
        "outputId": "ce6135b4-7492-4bb7-ca3b-a8c55f2153eb"
      },
      "execution_count": 12,
      "outputs": [
        {
          "output_type": "stream",
          "name": "stdout",
          "text": [
            "opening_price: 29236000\n",
            "max_price: 29528000\n",
            "min_price: 26610000\n",
            "변동폭: 2918000\n",
            "상승장\n"
          ]
        }
      ]
    },
    {
      "cell_type": "markdown",
      "source": [
        "# 파이썬 반복문"
      ],
      "metadata": {
        "id": "0DPOmZkk7tQC"
      }
    },
    {
      "cell_type": "code",
      "source": [
        "# 131\n",
        "\n",
        "과일 = [\"사과\", \"귤\", \"수박\"]\n",
        "\n",
        "for 변수 in 과일:\n",
        "  print(변수)"
      ],
      "metadata": {
        "colab": {
          "base_uri": "https://localhost:8080/"
        },
        "id": "EQBTKhBC882z",
        "outputId": "cc2e8c29-6cbe-4c34-8e66-9664ff0ae640"
      },
      "execution_count": 13,
      "outputs": [
        {
          "output_type": "stream",
          "name": "stdout",
          "text": [
            "사과\n",
            "귤\n",
            "수박\n"
          ]
        }
      ]
    },
    {
      "cell_type": "code",
      "source": [
        "# 132\n",
        "\n",
        "for 변수 in 과일:\n",
        "  print(\"#####\")"
      ],
      "metadata": {
        "colab": {
          "base_uri": "https://localhost:8080/"
        },
        "id": "AptZ-w289VlA",
        "outputId": "811f59dd-decd-48e3-8e75-47e9ae48a2d4"
      },
      "execution_count": 14,
      "outputs": [
        {
          "output_type": "stream",
          "name": "stdout",
          "text": [
            "#####\n",
            "#####\n",
            "#####\n"
          ]
        }
      ]
    },
    {
      "cell_type": "code",
      "source": [
        "# 133\n",
        "\n",
        "'''\n",
        "for 변수 in [\"A\", \"B\", \"C\"]:\n",
        "  print(변수)\n",
        "'''\n",
        "\n",
        "print('A')\n",
        "print('B')\n",
        "print('C')"
      ],
      "metadata": {
        "colab": {
          "base_uri": "https://localhost:8080/"
        },
        "id": "RPybXzpk9g2l",
        "outputId": "35fc1012-da7f-4aa2-ed9b-8567c5b3863b"
      },
      "execution_count": 15,
      "outputs": [
        {
          "output_type": "stream",
          "name": "stdout",
          "text": [
            "A\n",
            "B\n",
            "C\n"
          ]
        }
      ]
    },
    {
      "cell_type": "code",
      "source": [
        "# 134\n",
        "\n",
        "'''\n",
        "for 변수 in [\"A\", \"B\", \"C\"]:\n",
        "  print(\"출력:\", 변수)\n",
        "'''\n",
        "\n",
        "print('출력:', 'A')\n",
        "print('출력:', 'B')\n",
        "print('출력:', 'C')"
      ],
      "metadata": {
        "colab": {
          "base_uri": "https://localhost:8080/"
        },
        "id": "0NDXzQ02-Ca3",
        "outputId": "94fb45de-8208-4adb-88d9-fb9f10593efc"
      },
      "execution_count": 18,
      "outputs": [
        {
          "output_type": "stream",
          "name": "stdout",
          "text": [
            "출력: A\n",
            "출력: B\n",
            "출력: C\n"
          ]
        }
      ]
    },
    {
      "cell_type": "code",
      "source": [
        "# 135\n",
        "\n",
        "'''\n",
        "for 변수 in [\"A\", \"B\", \"C\"]:\n",
        "  b = 변수.lower()\n",
        "  print(\"변환:\", b)\n",
        "'''\n",
        "\n",
        "변수 = 'A'\n",
        "b = 변수.lower()\n",
        "print('변환:', b)\n",
        "변수 = 'B'\n",
        "b = 변수.lower()\n",
        "print('변환:', b)\n",
        "변수 = 'C'\n",
        "b = 변수.lower()\n",
        "print('변환:', b)"
      ],
      "metadata": {
        "colab": {
          "base_uri": "https://localhost:8080/"
        },
        "id": "RgSitJ78_EqZ",
        "outputId": "f562becb-ddd0-46db-d89c-283e0a322ebd"
      },
      "execution_count": 19,
      "outputs": [
        {
          "output_type": "stream",
          "name": "stdout",
          "text": [
            "변환: a\n",
            "변환: b\n",
            "변환: c\n"
          ]
        }
      ]
    },
    {
      "cell_type": "code",
      "source": [
        "# 136\n",
        "\n",
        "'''\n",
        "변수 = 10\n",
        "print(변수)\n",
        "변수 = 20\n",
        "print(변수)\n",
        "변수 = 30\n",
        "print(변수)\n",
        "'''\n",
        "\n",
        "for 변수 in [10, 20, 30]:\n",
        "  print(변수)"
      ],
      "metadata": {
        "colab": {
          "base_uri": "https://localhost:8080/"
        },
        "id": "2DYeAJI9AExY",
        "outputId": "466f7a85-c39f-4e6c-9664-fbad28688c8c"
      },
      "execution_count": 20,
      "outputs": [
        {
          "output_type": "stream",
          "name": "stdout",
          "text": [
            "10\n",
            "20\n",
            "30\n"
          ]
        }
      ]
    },
    {
      "cell_type": "code",
      "source": [
        "# 137\n",
        "\n",
        "'''\n",
        "print(10)\n",
        "print(20)\n",
        "print(30)\n",
        "'''\n",
        "\n",
        "for 변수 in [10, 20, 30]:\n",
        "  print(변수)"
      ],
      "metadata": {
        "colab": {
          "base_uri": "https://localhost:8080/"
        },
        "id": "ANQ_2yinAZvA",
        "outputId": "4d600d10-1f0a-45d5-d466-407ec1d83f01"
      },
      "execution_count": 21,
      "outputs": [
        {
          "output_type": "stream",
          "name": "stdout",
          "text": [
            "10\n",
            "20\n",
            "30\n"
          ]
        }
      ]
    },
    {
      "cell_type": "code",
      "source": [
        "# 138\n",
        "\n",
        "'''\n",
        "print(10)\n",
        "print(\"-------\")\n",
        "print(20)\n",
        "print(\"-------\")\n",
        "print(30)\n",
        "print(\"-------\")\n",
        "'''\n",
        "\n",
        "for 변수 in [10, 20, 30]:\n",
        "  print(변수)\n",
        "  print(\"-------\")"
      ],
      "metadata": {
        "colab": {
          "base_uri": "https://localhost:8080/"
        },
        "id": "KP8zSlHpAm5j",
        "outputId": "75833351-d6b2-4792-966c-9f71d8b0734f"
      },
      "execution_count": 25,
      "outputs": [
        {
          "output_type": "stream",
          "name": "stdout",
          "text": [
            "10\n",
            "-------\n",
            "20\n",
            "-------\n",
            "30\n",
            "-------\n"
          ]
        }
      ]
    },
    {
      "cell_type": "code",
      "source": [
        "# 139\n",
        "\n",
        "'''\n",
        "print(\"++++\")\n",
        "print(10)\n",
        "print(20)\n",
        "print(30)\n",
        "'''\n",
        "\n",
        "print(\"++++\")\n",
        "for 변수 in [10, 20, 30]:\n",
        "  print(변수)"
      ],
      "metadata": {
        "colab": {
          "base_uri": "https://localhost:8080/"
        },
        "id": "xQq9I6qIA62X",
        "outputId": "bd3c9641-ad6f-4c02-8076-4983e6e757f0"
      },
      "execution_count": 26,
      "outputs": [
        {
          "output_type": "stream",
          "name": "stdout",
          "text": [
            "++++\n",
            "10\n",
            "20\n",
            "30\n"
          ]
        }
      ]
    },
    {
      "cell_type": "code",
      "source": [
        "# 140\n",
        "\n",
        "'''\n",
        "print(\"-------\")\n",
        "print(\"-------\")\n",
        "print(\"-------\")\n",
        "print(\"-------\")\n",
        "'''\n",
        "\n",
        "for i in range(4):\n",
        "  print(\"-------\")"
      ],
      "metadata": {
        "colab": {
          "base_uri": "https://localhost:8080/"
        },
        "id": "dNDs9jhdBXsI",
        "outputId": "ebd5809c-e720-4fcd-99ab-5632ce436092"
      },
      "execution_count": 27,
      "outputs": [
        {
          "output_type": "stream",
          "name": "stdout",
          "text": [
            "-------\n",
            "-------\n",
            "-------\n",
            "-------\n"
          ]
        }
      ]
    },
    {
      "cell_type": "code",
      "source": [
        "# 141\n",
        "\n",
        "리스트 = [100, 200, 300]\n",
        "\n",
        "for i in 리스트:\n",
        "  print(i + 10)"
      ],
      "metadata": {
        "colab": {
          "base_uri": "https://localhost:8080/"
        },
        "id": "fgRcTUzzBt3E",
        "outputId": "cbd03e70-bbbc-418a-a58b-25119162c308"
      },
      "execution_count": 29,
      "outputs": [
        {
          "output_type": "stream",
          "name": "stdout",
          "text": [
            "110\n",
            "210\n",
            "310\n"
          ]
        }
      ]
    },
    {
      "cell_type": "code",
      "source": [
        "# 142\n",
        "\n",
        "리스트 = [\"김밥\", \"라면\", \"튀김\"]\n",
        "\n",
        "for i in 리스트:\n",
        "  print(\"오늘의 메뉴:\", i)"
      ],
      "metadata": {
        "colab": {
          "base_uri": "https://localhost:8080/"
        },
        "id": "dh1lV90OEhLL",
        "outputId": "d8704dac-235f-4b83-fafa-73efc5fdab1e"
      },
      "execution_count": 30,
      "outputs": [
        {
          "output_type": "stream",
          "name": "stdout",
          "text": [
            "오늘의 메뉴: 김밥\n",
            "오늘의 메뉴: 라면\n",
            "오늘의 메뉴: 튀김\n"
          ]
        }
      ]
    },
    {
      "cell_type": "code",
      "source": [
        "# 143\n",
        "\n",
        "리스트 = [\"SK하이닉스\", \"삼성전자\", \"LG전자\"]\n",
        "\n",
        "for i in 리스트:\n",
        "  print(len(i))"
      ],
      "metadata": {
        "colab": {
          "base_uri": "https://localhost:8080/"
        },
        "id": "BpdWNG4sFb24",
        "outputId": "49cdc928-5f30-4f1b-8325-d80f0bea96f4"
      },
      "execution_count": 31,
      "outputs": [
        {
          "output_type": "stream",
          "name": "stdout",
          "text": [
            "6\n",
            "4\n",
            "4\n"
          ]
        }
      ]
    },
    {
      "cell_type": "code",
      "source": [
        "# 144\n",
        "\n",
        "리스트 = ['dog', 'cat', 'parrot']\n",
        "\n",
        "for i in 리스트:\n",
        "  print(i, len(i))"
      ],
      "metadata": {
        "colab": {
          "base_uri": "https://localhost:8080/"
        },
        "id": "3RnNCgp3FpIf",
        "outputId": "ca696345-b5c3-4b1e-ac16-d53bc9592b4e"
      },
      "execution_count": 32,
      "outputs": [
        {
          "output_type": "stream",
          "name": "stdout",
          "text": [
            "dog 3\n",
            "cat 3\n",
            "parrot 6\n"
          ]
        }
      ]
    },
    {
      "cell_type": "code",
      "source": [
        "# 145\n",
        "\n",
        "리스트 = ['dog', 'cat', 'parrot']\n",
        "\n",
        "for i in 리스트:\n",
        "  print(i[0])"
      ],
      "metadata": {
        "colab": {
          "base_uri": "https://localhost:8080/"
        },
        "id": "30qRRFXyF2Aw",
        "outputId": "28bfe0b4-8894-4959-bddb-619cf3128d44"
      },
      "execution_count": 33,
      "outputs": [
        {
          "output_type": "stream",
          "name": "stdout",
          "text": [
            "d\n",
            "c\n",
            "p\n"
          ]
        }
      ]
    },
    {
      "cell_type": "code",
      "source": [
        "# 146\n",
        "\n",
        "리스트 = [1, 2, 3]\n",
        "\n",
        "for i in 리스트:\n",
        "  print('3 x', i)"
      ],
      "metadata": {
        "colab": {
          "base_uri": "https://localhost:8080/"
        },
        "id": "PfP1S86mGB1p",
        "outputId": "5cbc1e23-1232-4578-a505-a253f5214c8a"
      },
      "execution_count": 34,
      "outputs": [
        {
          "output_type": "stream",
          "name": "stdout",
          "text": [
            "3 x 1\n",
            "3 x 2\n",
            "3 x 3\n"
          ]
        }
      ]
    },
    {
      "cell_type": "code",
      "source": [
        "# 147\n",
        "\n",
        "리스트 = [1, 2, 3]\n",
        "\n",
        "for i in 리스트:\n",
        "  print('3 x {} = {}'.format(i, 3 * i))"
      ],
      "metadata": {
        "colab": {
          "base_uri": "https://localhost:8080/"
        },
        "id": "TGu2TPUAGQxG",
        "outputId": "93273d4e-91fc-4e40-8d04-5d4b1919e580"
      },
      "execution_count": 35,
      "outputs": [
        {
          "output_type": "stream",
          "name": "stdout",
          "text": [
            "3 x 1 = 3\n",
            "3 x 2 = 6\n",
            "3 x 3 = 9\n"
          ]
        }
      ]
    },
    {
      "cell_type": "code",
      "source": [
        "# 148\n",
        "\n",
        "리스트 = [\"가\", \"나\", \"다\", \"라\"]\n",
        "\n",
        "for i in 리스트[1:]:\n",
        "  print(i)"
      ],
      "metadata": {
        "colab": {
          "base_uri": "https://localhost:8080/"
        },
        "id": "TMwb50tjGxY6",
        "outputId": "ba739fc8-e871-4159-8772-d0820607b97e"
      },
      "execution_count": 38,
      "outputs": [
        {
          "output_type": "stream",
          "name": "stdout",
          "text": [
            "나\n",
            "다\n",
            "라\n"
          ]
        }
      ]
    },
    {
      "cell_type": "code",
      "source": [
        "# 149\n",
        "\n",
        "리스트 = [\"가\", \"나\", \"다\", \"라\"]\n",
        "\n",
        "for i in 리스트[::2]:\n",
        "  print(i)"
      ],
      "metadata": {
        "colab": {
          "base_uri": "https://localhost:8080/"
        },
        "id": "SAJjSWCEHya0",
        "outputId": "b37959b5-6d19-4f07-a3c9-c5bdcf3e34cb"
      },
      "execution_count": 39,
      "outputs": [
        {
          "output_type": "stream",
          "name": "stdout",
          "text": [
            "가\n",
            "다\n"
          ]
        }
      ]
    },
    {
      "cell_type": "code",
      "source": [
        "# 150\n",
        "\n",
        "리스트 = [\"가\", \"나\", \"다\", \"라\"]\n",
        "\n",
        "for i in 리스트[::-1]:\n",
        "  print(i)"
      ],
      "metadata": {
        "colab": {
          "base_uri": "https://localhost:8080/"
        },
        "id": "ZcNdBNiYIEe5",
        "outputId": "b9b10cc1-0c88-49d7-ebdd-784758922a01"
      },
      "execution_count": 40,
      "outputs": [
        {
          "output_type": "stream",
          "name": "stdout",
          "text": [
            "라\n",
            "다\n",
            "나\n",
            "가\n"
          ]
        }
      ]
    },
    {
      "cell_type": "code",
      "source": [
        "# 151\n",
        "\n",
        "리스트 = [3, -20, -3, 44]\n",
        "\n",
        "for i in 리스트:\n",
        "  if i < 0:\n",
        "    print(i)"
      ],
      "metadata": {
        "colab": {
          "base_uri": "https://localhost:8080/"
        },
        "id": "vdZbVhevIK4c",
        "outputId": "b85b9a87-813c-4f4b-a14c-aec8aa5fb7b8"
      },
      "execution_count": 41,
      "outputs": [
        {
          "output_type": "stream",
          "name": "stdout",
          "text": [
            "-20\n",
            "-3\n"
          ]
        }
      ]
    },
    {
      "cell_type": "code",
      "source": [
        "# 152\n",
        "\n",
        "리스트 = [3, 100, 23, 44]\n",
        "\n",
        "for i in 리스트:\n",
        "  if i % 3 == 0:\n",
        "    print(i)"
      ],
      "metadata": {
        "colab": {
          "base_uri": "https://localhost:8080/"
        },
        "id": "rOzed1vIIa-y",
        "outputId": "856e82a1-a60a-480c-c581-e89eb940532d"
      },
      "execution_count": 42,
      "outputs": [
        {
          "output_type": "stream",
          "name": "stdout",
          "text": [
            "3\n"
          ]
        }
      ]
    },
    {
      "cell_type": "code",
      "source": [
        "# 153\n",
        "\n",
        "리스트 = [13, 21, 12, 14, 30, 18]\n",
        "\n",
        "for i in 리스트:\n",
        "  if i % 3 == 0 and i < 20:\n",
        "    print(i)"
      ],
      "metadata": {
        "colab": {
          "base_uri": "https://localhost:8080/"
        },
        "id": "g_PJQiA9IlzT",
        "outputId": "18355c3d-4754-4cc7-8396-5757190dc6c2"
      },
      "execution_count": 43,
      "outputs": [
        {
          "output_type": "stream",
          "name": "stdout",
          "text": [
            "12\n",
            "18\n"
          ]
        }
      ]
    },
    {
      "cell_type": "code",
      "source": [
        "# 154\n",
        "\n",
        "리스트 = [\"I\", \"study\", \"python\", \"language\", \"!\"]\n",
        "\n",
        "for i in 리스트:\n",
        "  if len(i) >= 3:\n",
        "    print(i) "
      ],
      "metadata": {
        "colab": {
          "base_uri": "https://localhost:8080/"
        },
        "id": "nEuD3I3BI1Lq",
        "outputId": "293c7717-8c23-4c9b-e45c-7e4ae0d20788"
      },
      "execution_count": 44,
      "outputs": [
        {
          "output_type": "stream",
          "name": "stdout",
          "text": [
            "study\n",
            "python\n",
            "language\n"
          ]
        }
      ]
    },
    {
      "cell_type": "code",
      "source": [
        "# 155\n",
        "\n",
        "리스트 = [\"A\", \"b\", \"c\", \"D\"]\n",
        "\n",
        "for i in 리스트:\n",
        "  if i.isupper():\n",
        "    print(i)"
      ],
      "metadata": {
        "colab": {
          "base_uri": "https://localhost:8080/"
        },
        "id": "Sfx7wVXkJGF0",
        "outputId": "402636f0-6b47-4bda-dd95-7de8f41299fc"
      },
      "execution_count": 45,
      "outputs": [
        {
          "output_type": "stream",
          "name": "stdout",
          "text": [
            "A\n",
            "D\n"
          ]
        }
      ]
    },
    {
      "cell_type": "code",
      "source": [
        "# 156\n",
        "\n",
        "리스트 = [\"A\", \"b\", \"c\", \"D\"]\n",
        "\n",
        "for i in 리스트:\n",
        "  if i.islower():\n",
        "    print(i)"
      ],
      "metadata": {
        "colab": {
          "base_uri": "https://localhost:8080/"
        },
        "id": "52KcN3qUJT5g",
        "outputId": "d302c802-ced2-472e-ec4d-51435abb5592"
      },
      "execution_count": 46,
      "outputs": [
        {
          "output_type": "stream",
          "name": "stdout",
          "text": [
            "b\n",
            "c\n"
          ]
        }
      ]
    },
    {
      "cell_type": "code",
      "source": [
        "# 157\n",
        "\n",
        "리스트 = ['dog', 'cat', 'parrot']\n",
        "\n",
        "for i in 리스트:\n",
        "  print(i.capitalize())"
      ],
      "metadata": {
        "colab": {
          "base_uri": "https://localhost:8080/"
        },
        "id": "TtUOmxVDJe3d",
        "outputId": "6452883f-09ac-44e9-df01-f70a12085f75"
      },
      "execution_count": 48,
      "outputs": [
        {
          "output_type": "stream",
          "name": "stdout",
          "text": [
            "Dog\n",
            "Cat\n",
            "Parrot\n"
          ]
        }
      ]
    },
    {
      "cell_type": "code",
      "source": [
        "# 158\n",
        "\n",
        "리스트 = ['hello.py', 'ex01.py', 'intro.hwp']\n",
        "\n",
        "for i in 리스트:\n",
        "  print(i.split('.')[0])"
      ],
      "metadata": {
        "colab": {
          "base_uri": "https://localhost:8080/"
        },
        "id": "DGBZk5dmJm59",
        "outputId": "c5c625ef-c990-4167-bceb-d80c34d63463"
      },
      "execution_count": 49,
      "outputs": [
        {
          "output_type": "stream",
          "name": "stdout",
          "text": [
            "hello\n",
            "ex01\n",
            "intro\n"
          ]
        }
      ]
    },
    {
      "cell_type": "code",
      "source": [
        "# 159\n",
        "\n",
        "리스트 = ['intra.h', 'intra.c', 'define.h', 'run.py']\n",
        "\n",
        "for i in 리스트:\n",
        "  if i.split('.')[1] == 'h':\n",
        "    print(i)"
      ],
      "metadata": {
        "colab": {
          "base_uri": "https://localhost:8080/"
        },
        "id": "smbXjMRUKHdP",
        "outputId": "a05af470-4553-47f6-ffa4-dd1a615d6646"
      },
      "execution_count": 50,
      "outputs": [
        {
          "output_type": "stream",
          "name": "stdout",
          "text": [
            "intra.h\n",
            "define.h\n"
          ]
        }
      ]
    },
    {
      "cell_type": "code",
      "source": [
        "# 160\n",
        "\n",
        "리스트 = ['intra.h', 'intra.c', 'define.h', 'run.py']\n",
        "\n",
        "for i in 리스트:\n",
        "  split = i.split('.')\n",
        "  if split[1] == 'h' or split[1] == 'c':\n",
        "    print(i)"
      ],
      "metadata": {
        "colab": {
          "base_uri": "https://localhost:8080/"
        },
        "id": "Ks79xpOCKVRE",
        "outputId": "85f3e09d-84a8-40d9-bc61-62d7b59441e7"
      },
      "execution_count": 51,
      "outputs": [
        {
          "output_type": "stream",
          "name": "stdout",
          "text": [
            "intra.h\n",
            "intra.c\n",
            "define.h\n"
          ]
        }
      ]
    },
    {
      "cell_type": "code",
      "source": [
        "# 161\n",
        "\n",
        "for i in range(100):\n",
        "  print(i)"
      ],
      "metadata": {
        "colab": {
          "base_uri": "https://localhost:8080/"
        },
        "id": "ChjTkq8DKr10",
        "outputId": "e6ce9541-cc29-49f7-bffd-c063d8627b9a"
      },
      "execution_count": 52,
      "outputs": [
        {
          "output_type": "stream",
          "name": "stdout",
          "text": [
            "0\n",
            "1\n",
            "2\n",
            "3\n",
            "4\n",
            "5\n",
            "6\n",
            "7\n",
            "8\n",
            "9\n",
            "10\n",
            "11\n",
            "12\n",
            "13\n",
            "14\n",
            "15\n",
            "16\n",
            "17\n",
            "18\n",
            "19\n",
            "20\n",
            "21\n",
            "22\n",
            "23\n",
            "24\n",
            "25\n",
            "26\n",
            "27\n",
            "28\n",
            "29\n",
            "30\n",
            "31\n",
            "32\n",
            "33\n",
            "34\n",
            "35\n",
            "36\n",
            "37\n",
            "38\n",
            "39\n",
            "40\n",
            "41\n",
            "42\n",
            "43\n",
            "44\n",
            "45\n",
            "46\n",
            "47\n",
            "48\n",
            "49\n",
            "50\n",
            "51\n",
            "52\n",
            "53\n",
            "54\n",
            "55\n",
            "56\n",
            "57\n",
            "58\n",
            "59\n",
            "60\n",
            "61\n",
            "62\n",
            "63\n",
            "64\n",
            "65\n",
            "66\n",
            "67\n",
            "68\n",
            "69\n",
            "70\n",
            "71\n",
            "72\n",
            "73\n",
            "74\n",
            "75\n",
            "76\n",
            "77\n",
            "78\n",
            "79\n",
            "80\n",
            "81\n",
            "82\n",
            "83\n",
            "84\n",
            "85\n",
            "86\n",
            "87\n",
            "88\n",
            "89\n",
            "90\n",
            "91\n",
            "92\n",
            "93\n",
            "94\n",
            "95\n",
            "96\n",
            "97\n",
            "98\n",
            "99\n"
          ]
        }
      ]
    },
    {
      "cell_type": "code",
      "source": [
        "# 162\n",
        "\n",
        "for i in range(2002, 2051, 4):\n",
        "  print(i)"
      ],
      "metadata": {
        "colab": {
          "base_uri": "https://localhost:8080/"
        },
        "id": "rc5ZDtzDLCg9",
        "outputId": "a5cc31d6-36d2-4fce-c073-7fd74f7e5514"
      },
      "execution_count": 56,
      "outputs": [
        {
          "output_type": "stream",
          "name": "stdout",
          "text": [
            "2002\n",
            "2006\n",
            "2010\n",
            "2014\n",
            "2018\n",
            "2022\n",
            "2026\n",
            "2030\n",
            "2034\n",
            "2038\n",
            "2042\n",
            "2046\n",
            "2050\n"
          ]
        }
      ]
    },
    {
      "cell_type": "code",
      "source": [
        "# 163\n",
        "\n",
        "for i in range(3, 31, 3):\n",
        "  print(i)"
      ],
      "metadata": {
        "colab": {
          "base_uri": "https://localhost:8080/"
        },
        "id": "60q5hM5XMJhr",
        "outputId": "7d6e64aa-c29b-4dd5-c1cb-1c25a7a295c1"
      },
      "execution_count": 58,
      "outputs": [
        {
          "output_type": "stream",
          "name": "stdout",
          "text": [
            "3\n",
            "6\n",
            "9\n",
            "12\n",
            "15\n",
            "18\n",
            "21\n",
            "24\n",
            "27\n",
            "30\n"
          ]
        }
      ]
    },
    {
      "cell_type": "code",
      "source": [
        "# 164\n",
        "\n",
        "for i in range(100):\n",
        "  print(99 - i)"
      ],
      "metadata": {
        "colab": {
          "base_uri": "https://localhost:8080/"
        },
        "id": "l0bgEj22Myjs",
        "outputId": "e0a74799-8e7a-4225-9f03-b7069d97910b"
      },
      "execution_count": 61,
      "outputs": [
        {
          "output_type": "stream",
          "name": "stdout",
          "text": [
            "99\n",
            "98\n",
            "97\n",
            "96\n",
            "95\n",
            "94\n",
            "93\n",
            "92\n",
            "91\n",
            "90\n",
            "89\n",
            "88\n",
            "87\n",
            "86\n",
            "85\n",
            "84\n",
            "83\n",
            "82\n",
            "81\n",
            "80\n",
            "79\n",
            "78\n",
            "77\n",
            "76\n",
            "75\n",
            "74\n",
            "73\n",
            "72\n",
            "71\n",
            "70\n",
            "69\n",
            "68\n",
            "67\n",
            "66\n",
            "65\n",
            "64\n",
            "63\n",
            "62\n",
            "61\n",
            "60\n",
            "59\n",
            "58\n",
            "57\n",
            "56\n",
            "55\n",
            "54\n",
            "53\n",
            "52\n",
            "51\n",
            "50\n",
            "49\n",
            "48\n",
            "47\n",
            "46\n",
            "45\n",
            "44\n",
            "43\n",
            "42\n",
            "41\n",
            "40\n",
            "39\n",
            "38\n",
            "37\n",
            "36\n",
            "35\n",
            "34\n",
            "33\n",
            "32\n",
            "31\n",
            "30\n",
            "29\n",
            "28\n",
            "27\n",
            "26\n",
            "25\n",
            "24\n",
            "23\n",
            "22\n",
            "21\n",
            "20\n",
            "19\n",
            "18\n",
            "17\n",
            "16\n",
            "15\n",
            "14\n",
            "13\n",
            "12\n",
            "11\n",
            "10\n",
            "9\n",
            "8\n",
            "7\n",
            "6\n",
            "5\n",
            "4\n",
            "3\n",
            "2\n",
            "1\n",
            "0\n"
          ]
        }
      ]
    },
    {
      "cell_type": "code",
      "source": [
        "# 165\n",
        "\n",
        "for i in range(10):\n",
        "  print(i/10)"
      ],
      "metadata": {
        "colab": {
          "base_uri": "https://localhost:8080/"
        },
        "id": "k9miKw7EM9zx",
        "outputId": "9bac75ae-5c5c-4c9c-faaa-a4bc3f03e73a"
      },
      "execution_count": 63,
      "outputs": [
        {
          "output_type": "stream",
          "name": "stdout",
          "text": [
            "0.0\n",
            "0.1\n",
            "0.2\n",
            "0.3\n",
            "0.4\n",
            "0.5\n",
            "0.6\n",
            "0.7\n",
            "0.8\n",
            "0.9\n"
          ]
        }
      ]
    },
    {
      "cell_type": "code",
      "source": [
        "# 166\n",
        "\n"
      ],
      "metadata": {
        "id": "Ddi7vUAQNd12"
      },
      "execution_count": null,
      "outputs": []
    }
  ]
}